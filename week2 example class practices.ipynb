{
 "cells": [
  {
   "cell_type": "markdown",
   "id": "037e6953",
   "metadata": {},
   "source": [
    "###  Week 2 Examples Practices"
   ]
  },
  {
   "cell_type": "code",
   "execution_count": 6,
   "id": "746ef0f4",
   "metadata": {},
   "outputs": [
    {
     "name": "stdout",
     "output_type": "stream",
     "text": [
      "13\n",
      "7\n",
      "30\n",
      "3.3333333333333335\n",
      "1\n",
      "1000\n",
      "3\n",
      "<class 'int'>\n"
     ]
    }
   ],
   "source": [
    "# Arithmatic Operators\n",
    "\n",
    "x = 10\n",
    "y = 3\n",
    "\n",
    "print(x+y) # addition\n",
    "print(x-y) # substraction\n",
    "print(x*y) # Multiplication\n",
    "print(x/y) # Division\n",
    "print(x%y) # remainder\n",
    "print(x**y) # Power\n",
    "print(x//y) # floor division / divisional result er int proper value ta output dekhabe\n",
    "print(type(x+y))"
   ]
  },
  {
   "cell_type": "code",
   "execution_count": 49,
   "id": "0e57ad37",
   "metadata": {},
   "outputs": [
    {
     "name": "stdout",
     "output_type": "stream",
     "text": [
      "5\n",
      "8\n",
      "5\n",
      "15\n",
      "5.0\n",
      "2.0\n",
      "0.0\n",
      "125\n",
      "1\n",
      "7\n",
      "13\n",
      "0\n",
      "40\n"
     ]
    }
   ],
   "source": [
    "# Assignment Operators\n",
    "\n",
    "x = 5\n",
    "print(x)\n",
    "\n",
    "x += 3   # x er ager value er sathe 3 add hobe\n",
    "print(x)\n",
    "\n",
    "x -=3  # x er ager value theke 3 bad jabe\n",
    "print(x)\n",
    "\n",
    "x *=3\n",
    "print(x)\n",
    "\n",
    "x /=3\n",
    "print(x)\n",
    "\n",
    "x %=3  \n",
    "print(x)\n",
    "\n",
    "x //= 3 \n",
    "print(x)\n",
    "\n",
    "x = 5\n",
    "x**=3 # or x = x**3\n",
    "print(x)\n",
    "\n",
    "x = 5\n",
    "x &= 3  # print(5 & 3)  er mane 5 and 3 er LCM koto\n",
    "print(x)\n",
    "\n",
    "# ekhane bitwise output ashbe\n",
    "\"\"\"\n",
    "ekhane 5 er binary value 101 and 3 er binary value 11 so duita combine korle ashe 101+11=111 \n",
    "ekhan 111 binary value er decimal value ashe 7 so result ashbe 7\n",
    "\"\"\"\n",
    "x = 5\n",
    "x |= 3\n",
    "print(x)\n",
    "\n",
    "\"\"\"\n",
    "ekhane 9 er binary value 1001 and 4 er binary value 100. so dui ta combine korle ashbe 1001+100 = 1101\n",
    "ekhn 1101 binary er decal value 13. so the result is 13.\n",
    "\"\"\"\n",
    "x = 9\n",
    "x |= 4\n",
    "print(x)\n",
    "\n",
    "# shift the bit operator \n",
    "\"\"\"\n",
    "ekhane 5 er binary holo 101.000 so 101.000 er point theke 3 ghor dan dike shift korle ashe 0\n",
    "so the result is 0.\n",
    "\"\"\"\n",
    "x = 5\n",
    "x >>= 3 \n",
    "print(x)\n",
    "\n",
    "\"\"\"\n",
    "ekhane 5 er binary 101.000 so point theke bam dike 3 ghor shift korle binary valu ashe 101000.000\n",
    "so ekhn 101000 binary er decimal value holo 40. so the result is 40.\n",
    "\"\"\"\n",
    "x = 5\n",
    "x <<= 3 \n",
    "print(x)"
   ]
  },
  {
   "cell_type": "code",
   "execution_count": 56,
   "id": "f5640867",
   "metadata": {},
   "outputs": [
    {
     "name": "stdout",
     "output_type": "stream",
     "text": [
      "True\n",
      "False\n",
      "False\n",
      "True\n",
      "True\n",
      "True\n",
      "False\n",
      "True\n",
      "False\n"
     ]
    }
   ],
   "source": [
    "# Comparision Operator\n",
    "\n",
    "x = 5\n",
    "print(x == 5) \n",
    "print(x != 5)  \n",
    "print(x > 5) \n",
    "print(x < 8)  \n",
    "print(x >= 5)  \n",
    "print(x <= 6) \n",
    "print(x <3)\n",
    "\n",
    "# in Python Then ASCII value of hello is greater than the ASCII  of Hello \n",
    "print(\"hello\">\"Hello\") \n",
    "print(\"Hello\"<\"Hello \") "
   ]
  },
  {
   "cell_type": "code",
   "execution_count": 57,
   "id": "756efe33",
   "metadata": {},
   "outputs": [
    {
     "name": "stdout",
     "output_type": "stream",
     "text": [
      "True\n",
      "False\n",
      "True\n",
      "False\n"
     ]
    }
   ],
   "source": [
    "# Logical Operators\n",
    "\n",
    "x = 2\n",
    "print(x < 4 and x != 0)  # both of this conditions have to be true the the output is true\n",
    "\n",
    "print(x > 2 and x < 10)\n",
    "\n",
    "print(x > 5 or x < 10) \n",
    "\n",
    "print(not(x > 5 or x < 10)) "
   ]
  },
  {
   "cell_type": "code",
   "execution_count": 68,
   "id": "6daa3b9c",
   "metadata": {},
   "outputs": [
    {
     "name": "stdout",
     "output_type": "stream",
     "text": [
      "False\n",
      "True\n",
      "False\n",
      "True\n"
     ]
    }
   ],
   "source": [
    "# Identity Operator\n",
    "\n",
    "x = [\"COMP6010\", \"COMP6100\"]\n",
    "y = [\"COMP6010\", \"COMP6100\"]\n",
    "\n",
    "print(x is y) # False karon value same hoileo same nai tai false\n",
    "\n",
    "z = x\n",
    "\n",
    "print(z is x) # eta true karon z er moddhe x er value assign kora hoise. so same value\n",
    "\n",
    "print(x is not z)\n",
    "print(x is not y)"
   ]
  },
  {
   "cell_type": "code",
   "execution_count": 14,
   "id": "bf3c07eb",
   "metadata": {},
   "outputs": [
    {
     "name": "stdout",
     "output_type": "stream",
     "text": [
      "How are you?\n",
      "H\n",
      "o\n",
      "?\n",
      "u\n",
      "How\n",
      "are \n",
      "are you?\n",
      "How are you\n",
      "How are you\n",
      "How are you?\n",
      "you\n"
     ]
    }
   ],
   "source": [
    "# counting starts with 0123456789\n",
    "\n",
    "# String 1\n",
    "\n",
    "word = \"How are you?\"\n",
    "\n",
    "print(word) # whole string\n",
    "\n",
    "print(word[0])  # string er first er position er character\n",
    "\n",
    "print(word[1])  # second character \n",
    "\n",
    "print(word[-1])  # last character\n",
    "\n",
    "print(word[-2])  # second last character \n",
    "\n",
    "print(word[:3]) # prothom theke 3rd character porjonto\n",
    "\n",
    "print(word[4:8]) # 4th position theke 7th position porjonto\n",
    "\n",
    "print(word[4:]) # 4th position theke last porjonto\n",
    "\n",
    "print(word[:-1]) # whole string\n",
    "\n",
    "print(word[0:-1]) # whole string\n",
    "\n",
    "print(word[:]) # whole string\n",
    "\n",
    "print(word[-4:-1]) # last theke counting start hobe\n",
    "\n"
   ]
  },
  {
   "cell_type": "code",
   "execution_count": 29,
   "id": "fecaa8f6",
   "metadata": {},
   "outputs": [
    {
     "name": "stdout",
     "output_type": "stream",
     "text": [
      "COMP6010\n",
      "Fundamental of Computer Science\n",
      "COMP6010 is Fundamental of Computer Science\n",
      "COMP6010 is Fundamental of Computer Science\n",
      "8\n",
      "31\n",
      "True\n",
      "False\n",
      "True\n",
      "This is our correct Unit\n"
     ]
    }
   ],
   "source": [
    "# String 2 & String 3\n",
    "\n",
    "UnitName =\"Fundamental of Computer Science\"\n",
    "UnitCode = \"COMP6010\"\n",
    "\n",
    "print(UnitCode)\n",
    "print(UnitName)\n",
    "\n",
    "print(UnitCode + \" is \" + UnitName) # Concatenation of string\n",
    "\n",
    "print(f'{UnitCode} is {UnitName}') # string formating method in python 3\n",
    "\n",
    "print(len(UnitCode))\n",
    "\n",
    "print(len(UnitName))\n",
    "\n",
    "print(\"COMP\" in UnitCode) # COMP unitcode er moddhe ase kina ei jonne \n",
    "\n",
    "print(\"comp\" in UnitCode) # Case sensitive howai False dekhabe\n",
    "\n",
    "print(\"comp\" not in UnitCode)  # not in mane nai so result true ashbe\n",
    "\n",
    "if (\"COMP6010\" not in UnitCode):\n",
    "    print(\"This is not our right Unit\")\n",
    "\n",
    "else:\n",
    "    print(\"This is our correct Unit\")"
   ]
  },
  {
   "cell_type": "code",
   "execution_count": 42,
   "id": "2e6fce5e",
   "metadata": {},
   "outputs": [
    {
     "name": "stdout",
     "output_type": "stream",
     "text": [
      " HELLO, WORLD! \n",
      " hello, world! \n",
      "Hello, World!\n",
      " hEllO, World! \n",
      "[' Hello', ' World! ']\n",
      "I want 3 pieces of item 567 for 49.95 dollars.\n",
      "I want to pay 49.95 dollars for 3 pieces of item no 567\n"
     ]
    }
   ],
   "source": [
    "# String 4 & String 5\n",
    "\n",
    "str4 = \" Hello, World! \"\n",
    "\n",
    "print(str4.upper()) # for all upper case results\n",
    "\n",
    "print(str4.lower()) # for all lowercase result\n",
    "\n",
    "print(str4.strip()) # remove white space from begining and end of the string\n",
    "\n",
    "print(str4.replace(\"Hello\",\"hEllO\")) # ekhane Hello k hEllO diye replace kora hocche\n",
    "\n",
    "print(str4.split(\",\"))  # ekhane every word er por , sign use kore split or alada kora hoise\n",
    "\n",
    "\n",
    "# FORMAT Method\n",
    "\n",
    "# This method is basically used for combining both int type and str type data\n",
    "\n",
    "quantity = 3\n",
    "itemno = 567\n",
    "price = 49.95\n",
    "myorder = \"I want {} pieces of item {} for {} dollars.\"\n",
    "\n",
    "print(myorder.format(quantity,itemno,price))\n",
    "\n",
    "mysecondorder = \"I want to pay {} dollars for {} pieces of item no {}\"\n",
    "\n",
    "print(mysecondorder.format(price,quantity,itemno))"
   ]
  },
  {
   "cell_type": "code",
   "execution_count": 53,
   "id": "22b6f2b8",
   "metadata": {},
   "outputs": [
    {
     "name": "stdout",
     "output_type": "stream",
     "text": [
      "<class 'int'>\n",
      "<class 'str'>\n",
      "5\n",
      "<class 'str'>\n",
      "5\n",
      "<class 'float'>\n",
      "5.0\n"
     ]
    }
   ],
   "source": [
    "# Types\n",
    "\n",
    "# Conversion of data type\n",
    "\n",
    "x = 5\n",
    "y = \"john\"\n",
    "\n",
    "print(type(x))\n",
    "print(type(y))\n",
    "print(x)\n",
    "\n",
    "x = str(x)  # ekhane x ke int type theke str type a convert kora hoyeche\n",
    "print(type(x))  # jar fole ekhane data type of x ekhane change hoye int theke string type hoye geche\n",
    "\n",
    "print(x)\n",
    "\n",
    "x = float(x)  # ekhane abar x k float data type a convert kora hoise\n",
    "print(type(x))\n",
    "\n",
    "print(x)\n"
   ]
  },
  {
   "cell_type": "code",
   "execution_count": 57,
   "id": "22bd1cf1",
   "metadata": {},
   "outputs": [
    {
     "name": "stdout",
     "output_type": "stream",
     "text": [
      "I like COMP6010\n",
      "100\n",
      "COMP601010\n"
     ]
    }
   ],
   "source": [
    "# Type 2\n",
    "\n",
    "x = \"COMP6010\"\n",
    "print(\"I like \" + x) # evabe duita string k add kora jabe\n",
    "\n",
    "y = 10\n",
    "print(y*10)\n",
    "\n",
    "print(x+str(y)) # x+y ekhane y int type data howai output error dekhabe tai y k string type data te convert kore newa hoise"
   ]
  },
  {
   "cell_type": "code",
   "execution_count": 75,
   "id": "48dfb450",
   "metadata": {},
   "outputs": [
    {
     "name": "stdout",
     "output_type": "stream",
     "text": [
      "Python is Horrible\n",
      "Python is Wonderful\n",
      "Python is Wonderful\n"
     ]
    }
   ],
   "source": [
    "# Type 3 \n",
    "\n",
    "# Global Variable\n",
    "\n",
    "x = \"Wonderful\"\n",
    "\n",
    "# nicher function er vetore bairerer variable er value call kora jai tai eta global variable\n",
    "def myfunc():\n",
    "    y = \"Horrible\"\n",
    "    print(\"Python is \" + y)  \n",
    "    print(\"Python is \" + x)  # bairer variable k vetore call kora jai\n",
    "\n",
    "myfunc()     # evabe function call kore result dekhabe\n",
    "\n",
    "print(\"Python is \" + x) "
   ]
  },
  {
   "cell_type": "code",
   "execution_count": 135,
   "id": "c8a84413",
   "metadata": {},
   "outputs": [
    {
     "name": "stdout",
     "output_type": "stream",
     "text": [
      "<class 'str'>\n",
      "<class 'float'>\n",
      "<class 'complex'>\n",
      "(2+3j)\n",
      "<class 'complex'>\n",
      "<class 'list'>\n",
      "<class 'tuple'>\n",
      "<class 'set'>\n",
      "<class 'dict'>\n",
      "<class 'range'>\n",
      "<class 'frozenset'>\n",
      "frozenset({'banana', 'apple', 'cherry'})\n",
      "<class 'bool'>\n",
      "<class 'bytes'>\n",
      "b'Hello'\n",
      "bytearray(b'\\x00\\x00\\x00\\x00\\x00\\x00\\x00\\x00\\x00\\x00')\n",
      "<class 'bytearray'>\n",
      "bytearray(b'\\xc8\\x17\\x02b')\n",
      "<memory at 0x000001EC2E5CD280>\n",
      "<class 'memoryview'>\n",
      "<memory at 0x000001EC2E5CD4C0>\n",
      "10000.0\n",
      "<class 'float'>\n"
     ]
    }
   ],
   "source": [
    "# Types 4\n",
    "\n",
    "a = \"Hello, World!\"\n",
    "print(type(a))\n",
    "\n",
    "b = 20.5\n",
    "print(type(b))\n",
    "\n",
    "c = 1j\n",
    "print(type(c))\n",
    "\n",
    "c1 = 2+3j\n",
    "print(c1)\n",
    "print(type(c1))\n",
    "\n",
    "d = [\"apple\", \"banana\", \"cherry\"]\n",
    "print(type(d))\n",
    "\n",
    "e = (\"apple\", \"banana\", \"cherry\")\n",
    "print(type(e))\n",
    "\n",
    "f ={\"mango\",\"banana\",\"orange\",\"papaya\"}\n",
    "print(type(f))\n",
    "\n",
    "g = {\"car\":\"ford\",\"bike\":\"Honda\",\"Airplane\":\"Fly Emirates\"}\n",
    "print(type(g))\n",
    "\n",
    "h = range(4)\n",
    "print(type(h))\n",
    "\n",
    "# frozenset r set same jinish but set a new member add kora ji r frozenset a kora ji na\n",
    "i = frozenset({\"apple\", \"banana\", \"cherry\"})\n",
    "print(type(i))\n",
    "print(i)\n",
    "\n",
    "j = True\n",
    "print(type(j))\n",
    "\n",
    "# bytes data type. jekono data type theke bytes data type a convert kora hoi\n",
    "k = b\"Hello\"   # ekhane Hello str type data but b use korar jonno eta byte data type a convert hoye geche\n",
    "print(type(k))\n",
    "print(k)\n",
    "\n",
    "l = bytearray(10)\n",
    "print(l)\n",
    "print(type(l))\n",
    "\n",
    "prime_numbers = [200, 23,2,98]   \n",
    "byte_array = bytearray(prime_numbers) # ekhane list type data k bytearray te convert kora hocche\n",
    "print(byte_array)\n",
    "\n",
    "# A memory view is a safe way to expose the buffer protocol in Python\n",
    "# kono data memory te exact jiga nicche kina check korar jonno ei method\n",
    "\n",
    "m = memoryview(bytes(100))\n",
    "print(m)\n",
    "print(type(m))\n",
    "\n",
    "print(memoryview(bytes(100)))\n",
    "\n",
    "# exponential \n",
    "\n",
    "n = 10e3\n",
    "print(n)\n",
    "print(type(n))\n"
   ]
  },
  {
   "cell_type": "markdown",
   "id": "f3a4f67e",
   "metadata": {},
   "source": [
    "###  Week 2 Class Practice"
   ]
  },
  {
   "cell_type": "code",
   "execution_count": 2,
   "id": "6b3f789d",
   "metadata": {},
   "outputs": [
    {
     "name": "stdout",
     "output_type": "stream",
     "text": [
      "b is less than a\n"
     ]
    }
   ],
   "source": [
    "# Python New lines and Indentations\n",
    "\n",
    "a = 50\n",
    "b = 30\n",
    "\n",
    "if b>a:\n",
    "    print(\"b is grater than a\")\n",
    "    \n",
    "elif b<a:\n",
    "    print(\"b is less than a\")\n",
    "    \n",
    "elif a == b:\n",
    "    print(\" a and b is equal\")\n",
    "    \n",
    "else:\n",
    "    print(\" This is not a option\")"
   ]
  },
  {
   "cell_type": "code",
   "execution_count": 3,
   "id": "3fc044f4",
   "metadata": {},
   "outputs": [
    {
     "name": "stdout",
     "output_type": "stream",
     "text": [
      "1\n",
      "2\n",
      "3\n",
      "4\n",
      "5\n",
      "6\n"
     ]
    }
   ],
   "source": [
    "i = 1\n",
    "while i<7:\n",
    "    print(i)\n",
    "    i+=1"
   ]
  },
  {
   "cell_type": "code",
   "execution_count": 4,
   "id": "53815529",
   "metadata": {},
   "outputs": [
    {
     "name": "stdout",
     "output_type": "stream",
     "text": [
      "2\n",
      "3\n",
      "4\n",
      "5\n",
      "6\n",
      "7\n"
     ]
    }
   ],
   "source": [
    "i = 1\n",
    "while i<7:\n",
    "    i+=1    # ekhane age increament hoise then print hoise\n",
    "    print(i)"
   ]
  },
  {
   "cell_type": "code",
   "execution_count": 47,
   "id": "f3165581",
   "metadata": {},
   "outputs": [
    {
     "name": "stdout",
     "output_type": "stream",
     "text": [
      "<class 'int'>\n",
      "<class 'str'>\n",
      "5\n",
      "Australia Australia Australia\n",
      "Australia Bangladesh  Canada\n"
     ]
    }
   ],
   "source": [
    "# variables\n",
    "\n",
    "# evabe variable er type change kora ji\n",
    "\n",
    "x = 5\n",
    "\n",
    "print(type(x))\n",
    "\n",
    "x = str(x)\n",
    "print(type(x))\n",
    "print(x)\n",
    "\n",
    "# ekta value eki sathe ekadhik variable er moddhe rakha ji\n",
    "a=b=c= \"Australia\"\n",
    "print(a,b,c)\n",
    "\n",
    "# eki sathee ekdhik value ekadhik variable er moddhe rakha jai\n",
    "d,e,f = \"Australia\",\"Bangladesh\",\" Canada\"\n",
    "print(d,e,f)"
   ]
  },
  {
   "cell_type": "code",
   "execution_count": 10,
   "id": "2ab7c95a",
   "metadata": {},
   "outputs": [
    {
     "name": "stdout",
     "output_type": "stream",
     "text": [
      "Enter your name: t\n",
      "Enter your age: 7\n",
      "Your name is t\n",
      " Your are 7 years old\n"
     ]
    }
   ],
   "source": [
    "# Input type Conversation\n",
    "name = input(\"Enter your name: \")\n",
    "age = str(input(\"Enter your age: \"))\n",
    "\n",
    "\n",
    "print(\"Your name is \" + name)\n",
    "print(\" Your are \" + age + \" years old\")"
   ]
  },
  {
   "cell_type": "markdown",
   "id": "9a5e0e37",
   "metadata": {},
   "source": [
    "### Week 2 iLearn Practices"
   ]
  },
  {
   "cell_type": "code",
   "execution_count": 3,
   "id": "cc149e0a",
   "metadata": {},
   "outputs": [
    {
     "name": "stdout",
     "output_type": "stream",
     "text": [
      "19\n",
      "11\n",
      "60\n",
      "50625\n",
      "3.75\n",
      "3\n",
      "3\n"
     ]
    }
   ],
   "source": [
    "# Qsn 1\n",
    "# 2.1. Number and calculations\n",
    "\n",
    "print(15 + 4)\n",
    "print(15 - 4)\n",
    "print(15 * 4)\n",
    "print(15 ** 4)\n",
    "print(15 / 4)\n",
    "print(15 // 4)\n",
    "print(15 % 4)"
   ]
  },
  {
   "cell_type": "code",
   "execution_count": 12,
   "id": "f1e984ac",
   "metadata": {},
   "outputs": [
    {
     "name": "stdout",
     "output_type": "stream",
     "text": [
      "0b1111111\n",
      "0o177\n",
      "0x7f\n",
      "0b10000001\n",
      "0o201\n",
      "0x81\n",
      "0b10000000000000\n",
      "0o20000\n",
      "0x2000\n",
      "0b1111011\n",
      "0o173\n",
      "0x7b\n"
     ]
    }
   ],
   "source": [
    "# Question 3\n",
    "\n",
    "127\n",
    "129\n",
    "8192\n",
    "123\n",
    "\n",
    "print(bin(127))\n",
    "print(oct(127))\n",
    "print(hex(127))\n",
    "\n",
    "print(bin(129))\n",
    "print(oct(129))\n",
    "print(hex(129))\n",
    "\n",
    "print(bin(8192))\n",
    "print(oct(8192))\n",
    "print(hex(8192))\n",
    "\n",
    "print(bin(123))\n",
    "print(oct(123))\n",
    "print(hex(123))"
   ]
  },
  {
   "cell_type": "code",
   "execution_count": 18,
   "id": "2e281f92",
   "metadata": {},
   "outputs": [
    {
     "name": "stdout",
     "output_type": "stream",
     "text": [
      "The Smallest Digit is : 2\n",
      "The Smallest Digit is : 3\n",
      "The Smallest Digit is : 6\n"
     ]
    }
   ],
   "source": [
    "# Qsn 5 ,6 & 7\n",
    "\n",
    "# Write a piece of python code that will take a decimal number e.g. 5263 and print out only the smallest digit.\n",
    "# For example, if there is a number 5263, the code should print out 3.\n",
    "\n",
    "# Smallest digit in a number\n",
    "\n",
    "number = 5263\n",
    "\n",
    "small_num = min(int(digit) for digit in str(number))\n",
    "print(\"The Smallest Digit is : \" + str(small_num))\n",
    "\n",
    "\n",
    "# Second Smallest number\n",
    "\n",
    "number = 5263\n",
    "\n",
    "second = sorted(int(digit) for digit in str(number))\n",
    "second_lowest = second[1]\n",
    "print(\"The Smallest Digit is : \" + str(second_lowest))\n",
    "\n",
    "# Highest digit in a number\n",
    "\n",
    "highest_num = max(int(digit) for digit in str(number))\n",
    "print(\"The Smallest Digit is : \" + str(highest_num))\n",
    "\n"
   ]
  },
  {
   "cell_type": "code",
   "execution_count": null,
   "id": "9c1902ab",
   "metadata": {},
   "outputs": [],
   "source": []
  }
 ],
 "metadata": {
  "kernelspec": {
   "display_name": "Python 3 (ipykernel)",
   "language": "python",
   "name": "python3"
  },
  "language_info": {
   "codemirror_mode": {
    "name": "ipython",
    "version": 3
   },
   "file_extension": ".py",
   "mimetype": "text/x-python",
   "name": "python",
   "nbconvert_exporter": "python",
   "pygments_lexer": "ipython3",
   "version": "3.9.13"
  }
 },
 "nbformat": 4,
 "nbformat_minor": 5
}
