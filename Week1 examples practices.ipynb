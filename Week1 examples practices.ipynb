{
 "cells": [
  {
   "cell_type": "code",
   "execution_count": 1,
   "id": "2aeeabab",
   "metadata": {},
   "outputs": [
    {
     "name": "stdout",
     "output_type": "stream",
     "text": [
      "We are studing Python in COMP6010\n"
     ]
    }
   ],
   "source": [
    "# Output 1\n",
    "\n",
    "print(\"We are studing Python in COMP6010\")"
   ]
  },
  {
   "cell_type": "code",
   "execution_count": 8,
   "id": "f41eff30",
   "metadata": {},
   "outputs": [
    {
     "name": "stdout",
     "output_type": "stream",
     "text": [
      " A book titled 'Python Tutorial'\n",
      "A book titled \"Python Tutorial\"\n",
      "How are you? This is your first class to learn python. Wish you all enjoy this unit.\n"
     ]
    }
   ],
   "source": [
    "# Output 2\n",
    "\n",
    "# Print er vetore kichu inverted comma diye likhte chaile print a je comma use kora hoise, same comma use kora jabe na\n",
    "\n",
    "print(\" A book titled 'Python Tutorial'\") \n",
    "\n",
    "print('A book titled \"Python Tutorial\"')\n",
    "\n",
    "# triple quotation o use kora jabe\n",
    "\n",
    "print('''How are you? This is your first class to learn python. Wish you all enjoy this unit.''')"
   ]
  },
  {
   "cell_type": "code",
   "execution_count": 9,
   "id": "b27d0025",
   "metadata": {},
   "outputs": [
    {
     "name": "stdout",
     "output_type": "stream",
     "text": [
      "7.0\n"
     ]
    }
   ],
   "source": [
    "# output 3\n",
    "\n",
    "# Variable\n",
    "\n",
    "distance = 56\n",
    "time = 8\n",
    "\n",
    "speed = distance/time\n",
    "\n",
    "print(speed)"
   ]
  },
  {
   "cell_type": "code",
   "execution_count": 12,
   "id": "4e74e441",
   "metadata": {},
   "outputs": [
    {
     "name": "stdout",
     "output_type": "stream",
     "text": [
      "Hello,World!\n"
     ]
    }
   ],
   "source": [
    "# Comment\n",
    "\n",
    "print(\"Hello,World!\")"
   ]
  },
  {
   "cell_type": "code",
   "execution_count": 20,
   "id": "68b2be4e",
   "metadata": {},
   "outputs": [
    {
     "data": {
      "text/plain": [
       "'This is a comment line 1 \\nThis is a comment line 2\\nThis is a comment line 3 '"
      ]
     },
     "execution_count": 20,
     "metadata": {},
     "output_type": "execute_result"
    }
   ],
   "source": [
    "\"\"\"This is a comment line 1 \n",
    "This is a comment line 2\n",
    "This is a comment line 3 \"\"\""
   ]
  },
  {
   "cell_type": "code",
   "execution_count": 21,
   "id": "4af7b742",
   "metadata": {},
   "outputs": [
    {
     "data": {
      "text/plain": [
       "20.0"
      ]
     },
     "execution_count": 21,
     "metadata": {},
     "output_type": "execute_result"
    }
   ],
   "source": [
    "(20 - 5) * (2 + 4) / 3 - 10"
   ]
  },
  {
   "cell_type": "code",
   "execution_count": 23,
   "id": "ce2553e8",
   "metadata": {},
   "outputs": [
    {
     "data": {
      "text/plain": [
       "28"
      ]
     },
     "execution_count": 23,
     "metadata": {},
     "output_type": "execute_result"
    }
   ],
   "source": [
    "a, b, c, d = 1, 7, 2, 9\n",
    "\n",
    "result = a + b // c * d\n",
    "\n",
    "result"
   ]
  },
  {
   "cell_type": "code",
   "execution_count": 24,
   "id": "863a8afb",
   "metadata": {},
   "outputs": [
    {
     "data": {
      "text/plain": [
       "12"
      ]
     },
     "execution_count": 24,
     "metadata": {},
     "output_type": "execute_result"
    }
   ],
   "source": [
    "s = \"Fundamentals\"\n",
    "len(s)"
   ]
  },
  {
   "cell_type": "code",
   "execution_count": 25,
   "id": "68bce253",
   "metadata": {},
   "outputs": [
    {
     "data": {
      "text/plain": [
       "'m'"
      ]
     },
     "execution_count": 25,
     "metadata": {},
     "output_type": "execute_result"
    }
   ],
   "source": [
    "s[5]"
   ]
  },
  {
   "cell_type": "code",
   "execution_count": 26,
   "id": "871cd614",
   "metadata": {},
   "outputs": [
    {
     "data": {
      "text/plain": [
       "'Fund'"
      ]
     },
     "execution_count": 26,
     "metadata": {},
     "output_type": "execute_result"
    }
   ],
   "source": [
    "s[:4]"
   ]
  },
  {
   "cell_type": "code",
   "execution_count": 27,
   "id": "404506c4",
   "metadata": {},
   "outputs": [
    {
     "data": {
      "text/plain": [
       "'a'"
      ]
     },
     "execution_count": 27,
     "metadata": {},
     "output_type": "execute_result"
    }
   ],
   "source": [
    "s[-3] "
   ]
  },
  {
   "cell_type": "code",
   "execution_count": 28,
   "id": "fba5d0b9",
   "metadata": {},
   "outputs": [
    {
     "data": {
      "text/plain": [
       "'Fundamen'"
      ]
     },
     "execution_count": 28,
     "metadata": {},
     "output_type": "execute_result"
    }
   ],
   "source": [
    "s[:-4] "
   ]
  },
  {
   "cell_type": "code",
   "execution_count": 29,
   "id": "19798cb1",
   "metadata": {
    "scrolled": true
   },
   "outputs": [
    {
     "data": {
      "text/plain": [
       "'ndame'"
      ]
     },
     "execution_count": 29,
     "metadata": {},
     "output_type": "execute_result"
    }
   ],
   "source": [
    "s[2:7]"
   ]
  },
  {
   "cell_type": "code",
   "execution_count": 30,
   "id": "3cdf8abd",
   "metadata": {},
   "outputs": [
    {
     "data": {
      "text/plain": [
       "'amen'"
      ]
     },
     "execution_count": 30,
     "metadata": {},
     "output_type": "execute_result"
    }
   ],
   "source": [
    "s[4:-4] "
   ]
  },
  {
   "cell_type": "code",
   "execution_count": 31,
   "id": "4fde8f5c",
   "metadata": {},
   "outputs": [
    {
     "data": {
      "text/plain": [
       "False"
      ]
     },
     "execution_count": 31,
     "metadata": {},
     "output_type": "execute_result"
    }
   ],
   "source": [
    "bool(-5 < -5)"
   ]
  },
  {
   "cell_type": "code",
   "execution_count": 32,
   "id": "6cae3ded",
   "metadata": {},
   "outputs": [
    {
     "data": {
      "text/plain": [
       "True"
      ]
     },
     "execution_count": 32,
     "metadata": {},
     "output_type": "execute_result"
    }
   ],
   "source": [
    "bool(-5 >= -5)"
   ]
  },
  {
   "cell_type": "code",
   "execution_count": 33,
   "id": "516d62f4",
   "metadata": {},
   "outputs": [
    {
     "data": {
      "text/plain": [
       "True"
      ]
     },
     "execution_count": 33,
     "metadata": {},
     "output_type": "execute_result"
    }
   ],
   "source": [
    "bool(-5 >= -5)"
   ]
  },
  {
   "cell_type": "code",
   "execution_count": 38,
   "id": "7460d9d3",
   "metadata": {},
   "outputs": [
    {
     "data": {
      "text/plain": [
       "False"
      ]
     },
     "execution_count": 38,
     "metadata": {},
     "output_type": "execute_result"
    }
   ],
   "source": [
    "bool(-5 > -5)"
   ]
  },
  {
   "cell_type": "code",
   "execution_count": 35,
   "id": "1c1f13ff",
   "metadata": {},
   "outputs": [
    {
     "data": {
      "text/plain": [
       "False"
      ]
     },
     "execution_count": 35,
     "metadata": {},
     "output_type": "execute_result"
    }
   ],
   "source": [
    "bool(10 == 70)"
   ]
  },
  {
   "cell_type": "code",
   "execution_count": 36,
   "id": "d99ba3f4",
   "metadata": {},
   "outputs": [
    {
     "data": {
      "text/plain": [
       "True"
      ]
     },
     "execution_count": 36,
     "metadata": {},
     "output_type": "execute_result"
    }
   ],
   "source": [
    "bool(20 != 90)"
   ]
  },
  {
   "cell_type": "code",
   "execution_count": 37,
   "id": "f43f849d",
   "metadata": {},
   "outputs": [
    {
     "data": {
      "text/plain": [
       "True"
      ]
     },
     "execution_count": 37,
     "metadata": {},
     "output_type": "execute_result"
    }
   ],
   "source": [
    "bool(10 == 10.0)"
   ]
  },
  {
   "cell_type": "code",
   "execution_count": 48,
   "id": "4218bde3",
   "metadata": {},
   "outputs": [
    {
     "data": {
      "text/plain": [
       "int"
      ]
     },
     "execution_count": 48,
     "metadata": {},
     "output_type": "execute_result"
    }
   ],
   "source": [
    "type(42)"
   ]
  },
  {
   "cell_type": "code",
   "execution_count": 49,
   "id": "d93eda50",
   "metadata": {},
   "outputs": [
    {
     "data": {
      "text/plain": [
       "float"
      ]
     },
     "execution_count": 49,
     "metadata": {},
     "output_type": "execute_result"
    }
   ],
   "source": [
    "type(17.29)"
   ]
  },
  {
   "cell_type": "code",
   "execution_count": 50,
   "id": "1975fefa",
   "metadata": {},
   "outputs": [
    {
     "data": {
      "text/plain": [
       "str"
      ]
     },
     "execution_count": 50,
     "metadata": {},
     "output_type": "execute_result"
    }
   ],
   "source": [
    "type(\"Futurama\")"
   ]
  },
  {
   "cell_type": "code",
   "execution_count": 51,
   "id": "b735cd42",
   "metadata": {},
   "outputs": [
    {
     "data": {
      "text/plain": [
       "bool"
      ]
     },
     "execution_count": 51,
     "metadata": {},
     "output_type": "execute_result"
    }
   ],
   "source": [
    "type((5 > 3))"
   ]
  },
  {
   "cell_type": "code",
   "execution_count": 52,
   "id": "945f9420",
   "metadata": {},
   "outputs": [
    {
     "data": {
      "text/plain": [
       "int"
      ]
     },
     "execution_count": 52,
     "metadata": {},
     "output_type": "execute_result"
    }
   ],
   "source": [
    "type(2 + 3 * 4)"
   ]
  },
  {
   "cell_type": "code",
   "execution_count": 53,
   "id": "6dd871a6",
   "metadata": {},
   "outputs": [
    {
     "data": {
      "text/plain": [
       "float"
      ]
     },
     "execution_count": 53,
     "metadata": {},
     "output_type": "execute_result"
    }
   ],
   "source": [
    "type(7 / 3)"
   ]
  },
  {
   "cell_type": "code",
   "execution_count": 54,
   "id": "7091dcb4",
   "metadata": {},
   "outputs": [
    {
     "data": {
      "text/plain": [
       "int"
      ]
     },
     "execution_count": 54,
     "metadata": {},
     "output_type": "execute_result"
    }
   ],
   "source": [
    "type(17 // 5)"
   ]
  },
  {
   "cell_type": "code",
   "execution_count": null,
   "id": "1994343a",
   "metadata": {},
   "outputs": [],
   "source": []
  }
 ],
 "metadata": {
  "kernelspec": {
   "display_name": "Python 3 (ipykernel)",
   "language": "python",
   "name": "python3"
  },
  "language_info": {
   "codemirror_mode": {
    "name": "ipython",
    "version": 3
   },
   "file_extension": ".py",
   "mimetype": "text/x-python",
   "name": "python",
   "nbconvert_exporter": "python",
   "pygments_lexer": "ipython3",
   "version": "3.9.13"
  }
 },
 "nbformat": 4,
 "nbformat_minor": 5
}
