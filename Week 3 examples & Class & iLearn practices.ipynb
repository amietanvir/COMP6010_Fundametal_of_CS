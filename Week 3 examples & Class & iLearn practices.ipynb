{
 "cells": [
  {
   "cell_type": "markdown",
   "id": "607ffa10",
   "metadata": {},
   "source": [
    "### Week 3 Examples Practices"
   ]
  },
  {
   "cell_type": "markdown",
   "id": "597140e8",
   "metadata": {},
   "source": [
    "#####  Some exercise are missing here because all exercises are done in class practice and practical class"
   ]
  },
  {
   "cell_type": "code",
   "execution_count": 42,
   "id": "5fbe68c4",
   "metadata": {},
   "outputs": [
    {
     "name": "stdout",
     "output_type": "stream",
     "text": [
      "10 is less than 20\n",
      "30 is no less than 20\n"
     ]
    }
   ],
   "source": [
    "# IF Statement\n",
    "\n",
    "x = 10\n",
    "y =20\n",
    "\n",
    "if x<y:\n",
    "    print(str(x)+\" is less than \"+str(y))\n",
    "    \n",
    "\n",
    "x = 30\n",
    "y = 20\n",
    "if x < y:\n",
    "  print(str(x) + \" is less than \" + str(y))\n",
    "else:\n",
    "  print(str(x) + \" is no less than \" + str(y))"
   ]
  },
  {
   "cell_type": "code",
   "execution_count": 44,
   "id": "93e6a59c",
   "metadata": {},
   "outputs": [
    {
     "name": "stdout",
     "output_type": "stream",
     "text": [
      "Enter value of x 10\n",
      "Enter value of y 8\n",
      "10 is greater than 8\n"
     ]
    }
   ],
   "source": [
    "x = int(input(\"Enter value of x \"))\n",
    "y = int(input(\"Enter value of y \"))\n",
    "\n",
    "if x>y:\n",
    "    print(str(x)+\" is greater than \"+str(y))\n",
    "\n",
    "elif x==y:\n",
    "    print(str(x)+\" is equal to \"+str(y))\n",
    "\n",
    "else:\n",
    "    print(str(x)+\" is less than \"+str(y))"
   ]
  },
  {
   "cell_type": "code",
   "execution_count": 47,
   "id": "b1b43a54",
   "metadata": {},
   "outputs": [
    {
     "name": "stdout",
     "output_type": "stream",
     "text": [
      "True\n",
      "False\n",
      "True\n",
      "False\n"
     ]
    }
   ],
   "source": [
    "# Logical Operators\n",
    "\n",
    "x = 2\n",
    "\n",
    "print(x<4 and x!=0)\n",
    "print(x > 2 and x < 10) \n",
    "print(x > 5 or x < 10) \n",
    "print(not(x > 5 or x < 10)) "
   ]
  },
  {
   "cell_type": "code",
   "execution_count": 48,
   "id": "d8833944",
   "metadata": {},
   "outputs": [
    {
     "name": "stdout",
     "output_type": "stream",
     "text": [
      "Enter your deposit $30000\n",
      "Your interest rate is 0.018\n",
      "Your total intertest is $540.00\n"
     ]
    }
   ],
   "source": [
    "# Bank interest\n",
    "\n",
    "deposit = int(input(\"Enter your deposit $\"))\n",
    "interest = 0\n",
    "rate = 0\n",
    "if deposit >= 1 and deposit <= 1000:\n",
    "  rate = 0.01\n",
    "elif deposit >= 1001 and deposit <= 10000:\n",
    "  rate = 0.015\n",
    "elif deposit >= 10001 and deposit <= 50000:\n",
    "  rate = 0.018\n",
    "elif deposit >= 50001 and deposit <= 100000:\n",
    "  rate = 0.02\n",
    "else:\n",
    "  rate = 0.025\n",
    "interest = \"{:.2f}\".format(deposit * rate) # using \"{:.2f}\".format() to have 2 decimal places\n",
    "print(\"Your interest rate is \" + str(rate))\n",
    "print(\"Your total intertest is $\" + str(interest))\n"
   ]
  },
  {
   "cell_type": "code",
   "execution_count": 1,
   "id": "4c5a1d63",
   "metadata": {},
   "outputs": [
    {
     "name": "stdout",
     "output_type": "stream",
     "text": [
      "Please enter your income : $23444\n",
      " Your tax amount is :996.36\n"
     ]
    }
   ],
   "source": [
    "# Australian income tax rate for 2021-22 and 2022-23 resident\n",
    "\n",
    "income = int(input(\"Please enter your income : $\"))\n",
    "\n",
    "if income >= 0 & income <= 18200:\n",
    "    tax = 0.00\n",
    "\n",
    "if income > 18200:\n",
    "    if income <= 45000:\n",
    "        tax = tax + (income - 18200)*0.19\n",
    "    else:\n",
    "        tax = tax + (45000 - 18200)*0.19\n",
    "\n",
    "if income > 45000:\n",
    "    if income <= 120000:\n",
    "        tax = tax + (income - 45000)*0.325\n",
    "    \n",
    "    else:\n",
    "        tax = tax + (120000 - 45000)*0.325\n",
    "\n",
    "if income > 120000:\n",
    "    if income <= 180000:\n",
    "        tax = tax + (income - 120000)*0.37\n",
    "        \n",
    "    else:\n",
    "        tax = tax + (180000 - 120000)*0.37\n",
    "\n",
    "    \n",
    "if income > 180000:\n",
    "\n",
    "    tax = tax + (income - 180000)*0.45\n",
    "\n",
    "print(\" Your tax amount is :\" + str(tax))\n"
   ]
  },
  {
   "cell_type": "markdown",
   "id": "e23ec564",
   "metadata": {},
   "source": [
    "### Class Practices from PDF"
   ]
  },
  {
   "cell_type": "code",
   "execution_count": 3,
   "id": "3ec4befc",
   "metadata": {},
   "outputs": [
    {
     "name": "stdout",
     "output_type": "stream",
     "text": [
      "x = 23\n",
      "y = 3\n",
      "23 is greater than 3\n"
     ]
    }
   ],
   "source": [
    "# Example 1\n",
    "\n",
    "x = int(input(\"x = \"))\n",
    "y = int(input(\"y = \"))\n",
    "\n",
    "if x < y:\n",
    "    print(str(x)+\" is less than \"+ str(y))\n",
    "elif x==y:\n",
    "    print(str(x)+ \" is equal to \"+str(y))\n",
    "else:\n",
    "    print(str(x)+\" is greater than \"+ str(y))"
   ]
  },
  {
   "cell_type": "code",
   "execution_count": 4,
   "id": "fb01bc18",
   "metadata": {},
   "outputs": [
    {
     "name": "stdout",
     "output_type": "stream",
     "text": [
      "x = 100\n",
      "y = 200\n",
      "100 is less than 200\n"
     ]
    }
   ],
   "source": [
    "# Example 2 Multiple branches\n",
    "\n",
    "x = int(input(\"x = \"))\n",
    "y = int(input(\"y = \"))\n",
    "\n",
    "if x>y:\n",
    "    print(str(x)+\" is grater than \"+str(y))\n",
    "    \n",
    "else:\n",
    "    if x==y:\n",
    "        print(str(x)+\" is equal to \"+str(y))\n",
    "    \n",
    "    else:\n",
    "        print(str(x)+\" is less than \"+str(y))"
   ]
  },
  {
   "cell_type": "code",
   "execution_count": 9,
   "id": "d9bc7795",
   "metadata": {},
   "outputs": [
    {
     "name": "stdout",
     "output_type": "stream",
     "text": [
      "PLease enter your mark in between [0,100]: 99\n",
      " Your Mark is 99\n",
      " Your Grade is HD\n"
     ]
    }
   ],
   "source": [
    "# Example 3 Multiple Branches\n",
    "\n",
    "mark = int(input(\"PLease enter your mark in between [0,100]: \"))\n",
    "\n",
    "if mark>= 85:\n",
    "    grade = \"HD\"\n",
    "    \n",
    "elif mark>=75:\n",
    "    grade = \"Distinction\"\n",
    "    \n",
    "elif mark >= 65:\n",
    "    grade = \"Credit\"\n",
    "\n",
    "elif mark>= 50:\n",
    "    grade =\"Pass\"\n",
    "    \n",
    "else:\n",
    "    grade = \"Fail\"\n",
    "    \n",
    "print(\" Your Mark is \" + str(mark))\n",
    "print(\" Your Grade is \" + grade)\n",
    "    "
   ]
  },
  {
   "cell_type": "code",
   "execution_count": 11,
   "id": "59c8f23b",
   "metadata": {},
   "outputs": [
    {
     "name": "stdout",
     "output_type": "stream",
     "text": [
      "Please input year: 2000\n",
      "2000 is a Lear Year.\n"
     ]
    }
   ],
   "source": [
    "# LEAP YEAR\n",
    "\n",
    "# Conditions for Leap Year 1. should be devided by 4 but not be devided by 100. again should be devided by 400\n",
    "\n",
    "year = int(input(\"Please input year: \"))\n",
    "\n",
    "if (year % 4 == 0 & year % 100 != 0) or year % 400 == 0:\n",
    "    print(str(year)+\" is a Lear Year.\")\n",
    "    \n",
    "else:\n",
    "    print(str(year)+ \" is not a Leap Year.\")"
   ]
  },
  {
   "cell_type": "code",
   "execution_count": 21,
   "id": "150aed92",
   "metadata": {},
   "outputs": [
    {
     "name": "stdout",
     "output_type": "stream",
     "text": [
      "Please enter your deposit amount : 100\n",
      "your interest rate is : 0.01\n",
      "Your interest amount is : 1.0\n",
      "Your current total amount is : $101.0\n"
     ]
    }
   ],
   "source": [
    "# Interest rates for bank deposit\n",
    "\n",
    "deposit  = int(input(\"Please enter your deposit amount : \"))\n",
    "\n",
    "if deposit > 0 & deposit <= 1000:\n",
    "    rate = 0.01\n",
    "    \n",
    "elif deposit > 1000 and deposit<=10000:\n",
    "    rate = 0.015\n",
    "\n",
    "elif deposit > 10000 and deposit <= 50000:\n",
    "    rate = 0.018\n",
    "        \n",
    "elif deposit>50000 and deposit<=100000:\n",
    "    rate = 0.02\n",
    "    \n",
    "else:\n",
    "    rate = 0.025\n",
    "    \n",
    "interest = deposit*rate\n",
    "total = deposit+ interest\n",
    "\n",
    "print(\"your interest rate is : \" + str(rate))\n",
    "print(\"Your interest amount is : \"+ str(interest))\n",
    "print(\"Your current total amount is : $\"+ str(total))\n",
    "\n",
    "\n",
    "\n",
    "# nicher part tuku pdf theke newa \n",
    "\n",
    "\n",
    "#interest = \"{:.2f}\".format(deposit * rate)\n",
    "# using \"{:.2f}\".format() to have 2 decimal places \n",
    "#print(\"Your interest rate is \" + str(rate)) print(\"Your total intertest is $\" + str(interest))\n",
    "#print(\"Your interest rate is \" + str(rate))\n",
    "#print(\"Your total intertest is $\" + str(interest))\n"
   ]
  },
  {
   "cell_type": "code",
   "execution_count": 40,
   "id": "dccb211b",
   "metadata": {},
   "outputs": [
    {
     "name": "stdout",
     "output_type": "stream",
     "text": [
      "Please enter your income : $180000\n",
      " Your tax amount is :51667.0\n"
     ]
    }
   ],
   "source": [
    "# Australian income tax rate for 2021-22 and 2022-23 resident\n",
    "\n",
    "income = int(input(\"Please enter your income : $\"))\n",
    "\n",
    "if income >= 0 & income <= 18200:\n",
    "    tax = 0.00\n",
    "\n",
    "if income > 18200:\n",
    "    if income <= 45000:\n",
    "        tax = tax + (income - 18200)*0.19\n",
    "    else:\n",
    "        tax = tax + (45000 - 18200)*0.19\n",
    "\n",
    "if income > 45000:\n",
    "    if income <= 120000:\n",
    "        tax = tax + (income - 45000)*0.325\n",
    "    \n",
    "    else:\n",
    "        tax = tax + (120000 - 45000)*0.325\n",
    "\n",
    "if income > 120000:\n",
    "    if income <= 180000:\n",
    "        tax = tax + (income - 120000)*0.37\n",
    "        \n",
    "    else:\n",
    "        tax = tax + (180000 - 120000)*0.37\n",
    "\n",
    "    \n",
    "if income > 180000:\n",
    "\n",
    "    tax = tax + (income - 180000)*0.45\n",
    "\n",
    "print(\" Your tax amount is :\" + str(tax))\n"
   ]
  },
  {
   "cell_type": "markdown",
   "id": "f192e3a6",
   "metadata": {},
   "source": [
    "### iLearn Practices"
   ]
  },
  {
   "cell_type": "code",
   "execution_count": 1,
   "id": "a3fa04a9",
   "metadata": {},
   "outputs": [
    {
     "name": "stdout",
     "output_type": "stream",
     "text": [
      " This looks ok\n"
     ]
    }
   ],
   "source": [
    "# Question 1: write an if statement that prints \"This looks ok.\" with the condition 5 >3\n",
    "\n",
    "if 5> 3 :\n",
    "    print(\" This looks ok\")\n",
    "    \n",
    "else:\n",
    "    print(\"This is not ok\")"
   ]
  },
  {
   "cell_type": "code",
   "execution_count": 8,
   "id": "e5606458",
   "metadata": {},
   "outputs": [
    {
     "name": "stdout",
     "output_type": "stream",
     "text": [
      " x is divisible by 3\n",
      " x is odd\n"
     ]
    }
   ],
   "source": [
    "# Question 2: use conditions to print out statements about x\n",
    "\n",
    "x = 9\n",
    "\n",
    "if x % 2 !=0:\n",
    "    if x % 3 ==0:\n",
    "        print(\" x is divisible by 3\")\n",
    "    print(\" x is odd\")\n",
    "\n",
    "elif x%2 == 0:\n",
    "    print(\"x is even\")\n",
    "    \n",
    "else:\n",
    "    print(\"Please enter a number\")"
   ]
  },
  {
   "cell_type": "code",
   "execution_count": 2,
   "id": "0c0a833c",
   "metadata": {},
   "outputs": [
    {
     "name": "stdout",
     "output_type": "stream",
     "text": [
      "Please enter value : 23\n",
      "x is positive\n"
     ]
    }
   ],
   "source": [
    "# Question3\n",
    "\n",
    "x = input(\"Please enter value : \")\n",
    "x = int(x)\n",
    "\n",
    "if x>0:\n",
    "    print(\"x is positive\")\n",
    "    \n",
    "elif x<0:\n",
    "    print(\"x is Negetive\")\n",
    "    \n",
    "else:\n",
    "    print(\"x is 0\")"
   ]
  },
  {
   "cell_type": "code",
   "execution_count": 3,
   "id": "9b1c43ce",
   "metadata": {},
   "outputs": [
    {
     "name": "stdout",
     "output_type": "stream",
     "text": [
      "year2324\n",
      "2324 is a leap year\n"
     ]
    }
   ],
   "source": [
    "# Question4\n",
    "\n",
    "year = int(input(\"year\"))\n",
    "\n",
    "if (year%4==0 and year%100!=0) or year%400==0:\n",
    "    \n",
    "    print((str)(year)+ \" is a leap year\")\n",
    "    \n",
    "else:\n",
    "    print((str)(year)+ \" is not a leap year\")\n"
   ]
  },
  {
   "cell_type": "code",
   "execution_count": 4,
   "id": "c9b4b5b0",
   "metadata": {},
   "outputs": [
    {
     "name": "stdout",
     "output_type": "stream",
     "text": [
      "fedcba\n",
      "ytisrevinu eirauqcaM\n"
     ]
    }
   ],
   "source": [
    "# Question5(a)\n",
    "\n",
    "myString = \"abcdef\"[::-1]\n",
    "\n",
    "print(myString)\n",
    "\n",
    "\n",
    "# Question5(b)\n",
    "\n",
    "mystring = \"Macquarie university\"[::-1]\n",
    "\n",
    "print(mystring)"
   ]
  },
  {
   "cell_type": "code",
   "execution_count": 5,
   "id": "5cef79b2",
   "metadata": {},
   "outputs": [
    {
     "name": "stdout",
     "output_type": "stream",
     "text": [
      "Welcome  to  COMP6010\n",
      "How are you today my friend\n"
     ]
    }
   ],
   "source": [
    "# Question6\n",
    "\n",
    "theString = \"   Welcome  to  COMP6010       \"\n",
    "\n",
    "x = theString.strip()\n",
    "print(x)\n",
    "\n",
    "anotherString =\"   How are you today my friend     \"\n",
    "y = anotherString.strip()\n",
    "print(y)"
   ]
  },
  {
   "cell_type": "code",
   "execution_count": 6,
   "id": "fec0455b",
   "metadata": {},
   "outputs": [
    {
     "name": "stdout",
     "output_type": "stream",
     "text": [
      "line 1-abcdefghijklmnop\n",
      "line 2-\n",
      "line 3-fghijklmn\n",
      "line 4-f\n",
      "line 5-fghijkl\n",
      "line 6-bdfhjlnp\n",
      "line 7-behkn\n",
      "line 8-acegikmo\n",
      "line 9-adgjmp\n",
      "line 10-ponmlkjihgfedcba\n"
     ]
    }
   ],
   "source": [
    "# Question7\n",
    "\n",
    "myString = \"abcdefghijklmnop\"\n",
    "\n",
    "myString = \"abcdefghijklmnop\"\n",
    "print( \"line 1-\" + myString[ : : ] )\n",
    "print( \"line 2-\" + myString[5 : 2] )\n",
    "print( \"line 3-\" + myString[5 : -2] )\n",
    "print( \"line 4-\" + myString[5 : 6] )\n",
    "print( \"line 5-\" + myString[5 : 12] )\n",
    "print( \"line 6-\" + myString[1 : : 2] ) \n",
    "print( \"line 7-\" + myString[1 : : 3] )\n",
    "print( \"line 8-\" + myString[ : : 2] )\n",
    "print( \"line 9-\" + myString[ : : 3] )\n",
    "print( \"line 10-\" + myString[ : : -1 ] )"
   ]
  },
  {
   "cell_type": "code",
   "execution_count": 7,
   "id": "bea78c1f",
   "metadata": {},
   "outputs": [
    {
     "name": "stdout",
     "output_type": "stream",
     "text": [
      "line 10-ponmlkjihgfedcba\n"
     ]
    }
   ],
   "source": [
    "# Question 8\n",
    "\n",
    "myString = \"abcdefghijklmnop\"\n",
    "print( \"line 10-\" + myString[ : : -1 ] )"
   ]
  },
  {
   "cell_type": "code",
   "execution_count": null,
   "id": "78f0a429",
   "metadata": {},
   "outputs": [],
   "source": []
  }
 ],
 "metadata": {
  "kernelspec": {
   "display_name": "Python 3 (ipykernel)",
   "language": "python",
   "name": "python3"
  },
  "language_info": {
   "codemirror_mode": {
    "name": "ipython",
    "version": 3
   },
   "file_extension": ".py",
   "mimetype": "text/x-python",
   "name": "python",
   "nbconvert_exporter": "python",
   "pygments_lexer": "ipython3",
   "version": "3.9.13"
  }
 },
 "nbformat": 4,
 "nbformat_minor": 5
}
