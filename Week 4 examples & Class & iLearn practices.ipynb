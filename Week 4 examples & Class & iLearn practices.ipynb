{
 "cells": [
  {
   "cell_type": "markdown",
   "id": "5f5325f3",
   "metadata": {},
   "source": [
    "### Week 4 Examples"
   ]
  },
  {
   "cell_type": "markdown",
   "id": "b14fc4c3",
   "metadata": {},
   "source": [
    "##### If some examples are missing then it should be in the class or iLearn section"
   ]
  },
  {
   "cell_type": "code",
   "execution_count": 17,
   "id": "c53bf3e7",
   "metadata": {},
   "outputs": [
    {
     "name": "stdout",
     "output_type": "stream",
     "text": [
      "Enter a positive integer : 10\n",
      " sum of even numbers : 20\n",
      " sum of even numbers : 25\n"
     ]
    }
   ],
   "source": [
    "# while\n",
    "# Input an integer and find the sum of odd numbers and even numbers\n",
    "\n",
    "sumeven = 0\n",
    "sumodd = 0\n",
    "\n",
    "n = 1\n",
    "m = int(input(\"Enter a positive integer : \"))\n",
    "while (n < m):\n",
    "    if n%2 == 0:\n",
    "        sumeven = sumeven + n\n",
    "        n += 1\n",
    "    else:\n",
    "        sumodd = sumodd + n\n",
    "        n +=1\n",
    "        \n",
    "print(\" sum of even numbers : \"+ str(sumeven))\n",
    "print(\" sum of even numbers : \"+ str(sumodd))\n",
    "        \n",
    "        \n"
   ]
  },
  {
   "cell_type": "code",
   "execution_count": 25,
   "id": "e0e6ad58",
   "metadata": {},
   "outputs": [
    {
     "name": "stdout",
     "output_type": "stream",
     "text": [
      "enter a number : 7\n",
      "7! = 5040\n"
     ]
    }
   ],
   "source": [
    "# Exercise 2: input a positive integer n, output n factorial n!\n",
    "# factorial using while loop\n",
    "factor = 1\n",
    "factorial =  1\n",
    "number = int(input(\"enter a number : \"))\n",
    "\n",
    "while(factor <= number):\n",
    "    factorial = factorial*factor\n",
    "    factor += 1\n",
    "print(str(number) + \"! = \" + str(factorial) )"
   ]
  },
  {
   "cell_type": "code",
   "execution_count": 38,
   "id": "ff2c26f4",
   "metadata": {},
   "outputs": [
    {
     "name": "stdout",
     "output_type": "stream",
     "text": [
      "Enter a number : 6\n",
      "6 ! = 720\n"
     ]
    }
   ],
   "source": [
    "# factorial using for loop\n",
    "\n",
    "factorial = 1\n",
    "\n",
    "number = int(input(\"Enter a number : \"))\n",
    "\n",
    "for x in range(1, number+1):\n",
    "    factorial = factorial*x\n",
    "    \n",
    "print(str(number)+ \" ! = \"+str(factorial))"
   ]
  },
  {
   "cell_type": "code",
   "execution_count": 42,
   "id": "88dfb921",
   "metadata": {},
   "outputs": [
    {
     "name": "stdout",
     "output_type": "stream",
     "text": [
      "Enter a number : 6\n",
      "0\n",
      "1\n",
      "1\n",
      "2\n",
      "3\n",
      "5\n",
      "8\n",
      "13\n"
     ]
    }
   ],
   "source": [
    "# Fibonacci for loop\n",
    "\n",
    "n1 = 0\n",
    "n2 = 1\n",
    "fibonacci = 0\n",
    "n3 = n1+n2\n",
    "n = int(input(\"Enter a number : \"))\n",
    "\n",
    "print(n1)\n",
    "print(n2)\n",
    "\n",
    "for x in range(1,n+1):\n",
    "    fibonacci = n1 + n2\n",
    "    n1 = n2\n",
    "    n2 = fibonacci\n",
    "    print(fibonacci)\n"
   ]
  },
  {
   "cell_type": "code",
   "execution_count": 13,
   "id": "875de26f",
   "metadata": {},
   "outputs": [
    {
     "name": "stdout",
     "output_type": "stream",
     "text": [
      "Enter a number : 5\n",
      "1\n",
      "1\n",
      "2\n",
      "3\n",
      "5\n",
      "8\n",
      "13\n"
     ]
    }
   ],
   "source": [
    "# fibonacci using while loop\n",
    "\n",
    "# 0,1,1,2,3,5,8,13,21...\n",
    "\n",
    "n = int(input(\"Enter a number : \"))\n",
    "a = 0\n",
    "b = 1\n",
    "factor = 0\n",
    "\n",
    "while(factor <= n+1):\n",
    "    a,b = b,a+b\n",
    "    print(a)\n",
    "    factor = factor + 1 "
   ]
  },
  {
   "cell_type": "markdown",
   "id": "7c3483ce",
   "metadata": {},
   "source": [
    "### Class Practice"
   ]
  },
  {
   "cell_type": "code",
   "execution_count": 2,
   "id": "ce0d9aad",
   "metadata": {},
   "outputs": [
    {
     "name": "stdout",
     "output_type": "stream",
     "text": [
      "1\n",
      "2\n",
      "3\n",
      "4\n",
      "5\n",
      "6\n",
      "7\n",
      "8\n",
      "9\n",
      "10\n"
     ]
    }
   ],
   "source": [
    "# While Loop\n",
    "\n",
    "# Example 1: output integers from 1 to 10\n",
    "\n",
    "number = 1\n",
    "while(number <= 10):\n",
    "    print(number)\n",
    "    number +=1"
   ]
  },
  {
   "cell_type": "code",
   "execution_count": 18,
   "id": "3ddcad89",
   "metadata": {},
   "outputs": [
    {
     "name": "stdout",
     "output_type": "stream",
     "text": [
      "1 1\n",
      "2 3\n",
      "3 6\n",
      "4 10\n",
      "5 15\n",
      "6 21\n",
      "7 28\n",
      "8 36\n",
      "9 45\n",
      "10 55\n",
      "11 66\n",
      "12 78\n",
      "13 91\n",
      "14 105\n",
      "15 120\n",
      "16 136\n",
      "17 153\n",
      "18 171\n",
      "19 190\n",
      "20 210\n",
      "21 231\n",
      "22 253\n",
      "23 276\n",
      "24 300\n",
      "25 325\n",
      "26 351\n",
      "27 378\n",
      "28 406\n",
      "29 435\n",
      "30 465\n",
      "31 496\n",
      "32 528\n",
      "33 561\n",
      "34 595\n",
      "35 630\n",
      "36 666\n",
      "37 703\n",
      "38 741\n",
      "39 780\n",
      "40 820\n",
      "41 861\n",
      "42 903\n",
      "43 946\n",
      "44 990\n",
      "45 1035\n",
      "46 1081\n",
      "47 1128\n",
      "48 1176\n",
      "49 1225\n",
      "50 1275\n",
      "51 1326\n",
      "52 1378\n",
      "53 1431\n",
      "54 1485\n",
      "55 1540\n",
      "56 1596\n",
      "57 1653\n",
      "58 1711\n",
      "59 1770\n",
      "60 1830\n",
      "61 1891\n",
      "62 1953\n",
      "63 2016\n",
      "64 2080\n",
      "65 2145\n",
      "66 2211\n",
      "67 2278\n",
      "68 2346\n",
      "69 2415\n",
      "70 2485\n",
      "71 2556\n",
      "72 2628\n",
      "73 2701\n",
      "74 2775\n",
      "75 2850\n",
      "76 2926\n",
      "77 3003\n",
      "78 3081\n",
      "79 3160\n",
      "80 3240\n",
      "81 3321\n",
      "82 3403\n",
      "83 3486\n",
      "84 3570\n",
      "85 3655\n",
      "86 3741\n",
      "87 3828\n",
      "88 3916\n",
      "89 4005\n",
      "90 4095\n",
      "91 4186\n",
      "92 4278\n",
      "93 4371\n",
      "94 4465\n",
      "95 4560\n",
      "96 4656\n",
      "97 4753\n",
      "98 4851\n",
      "99 4950\n",
      "100 5050\n",
      "Average :50.5\n"
     ]
    }
   ],
   "source": [
    "# Example 2: calculate and output the sum and average of all integers between 1 and 100\n",
    "\n",
    "sum = 0\n",
    "n = 0\n",
    "while(n< 100):\n",
    "    #print(n)\n",
    "    n +=1\n",
    "    sum = sum + n\n",
    "    print(str(n),str(sum))\n",
    "    avg = sum / n\n",
    "print(\"Average :\"+str(avg))\n",
    "    "
   ]
  },
  {
   "cell_type": "code",
   "execution_count": 7,
   "id": "9ad87874",
   "metadata": {},
   "outputs": [],
   "source": [
    "# Example 3: enter a number of positive integers ended with 0 or a negative number, output the total count of odd numbers\n",
    "# and the total count of even numbers\n"
   ]
  },
  {
   "cell_type": "code",
   "execution_count": null,
   "id": "088e661a",
   "metadata": {},
   "outputs": [],
   "source": []
  },
  {
   "cell_type": "code",
   "execution_count": null,
   "id": "2b341f14",
   "metadata": {},
   "outputs": [],
   "source": []
  },
  {
   "cell_type": "code",
   "execution_count": 1,
   "id": "60ec332b",
   "metadata": {},
   "outputs": [
    {
     "name": "stdout",
     "output_type": "stream",
     "text": [
      "2\n",
      "4\n",
      "6\n",
      "8\n",
      "10\n",
      "12\n",
      "14\n",
      "16\n",
      "18\n",
      "20\n",
      "22\n",
      "24\n",
      "26\n",
      "28\n",
      "30\n",
      "32\n",
      "34\n",
      "36\n",
      "38\n",
      "40\n",
      "42\n",
      "44\n",
      "46\n",
      "48\n",
      "50\n",
      "52\n",
      "54\n",
      "56\n",
      "58\n",
      "60\n",
      "62\n",
      "64\n",
      "66\n",
      "68\n",
      "70\n",
      "72\n",
      "74\n",
      "76\n",
      "78\n",
      "80\n",
      "82\n",
      "84\n",
      "86\n",
      "88\n",
      "90\n",
      "92\n",
      "94\n",
      "96\n",
      "98\n",
      "100\n"
     ]
    }
   ],
   "source": [
    "# Exercise 1\n",
    "\n",
    "even = 1\n",
    "while(even <= 100):\n",
    "    if even % 2 == 0:\n",
    "        print(even)\n",
    "    even +=1"
   ]
  },
  {
   "cell_type": "code",
   "execution_count": 3,
   "id": "880e5852",
   "metadata": {},
   "outputs": [
    {
     "name": "stdout",
     "output_type": "stream",
     "text": [
      "1\n",
      "3\n",
      "5\n",
      "7\n",
      "9\n",
      "11\n",
      "13\n",
      "15\n",
      "17\n",
      "19\n",
      "21\n",
      "23\n",
      "25\n",
      "27\n",
      "29\n",
      "31\n",
      "33\n",
      "35\n",
      "37\n",
      "39\n",
      "41\n",
      "43\n",
      "45\n",
      "47\n",
      "49\n",
      "51\n",
      "53\n",
      "55\n",
      "57\n",
      "59\n",
      "61\n",
      "63\n",
      "65\n",
      "67\n",
      "69\n",
      "71\n",
      "73\n",
      "75\n",
      "77\n",
      "79\n",
      "81\n",
      "83\n",
      "85\n",
      "87\n",
      "89\n",
      "91\n",
      "93\n",
      "95\n",
      "97\n",
      "99\n"
     ]
    }
   ],
   "source": [
    "# Exercise 1\n",
    "\n",
    "odd = 1\n",
    "while(odd <= 100):\n",
    "    if odd % 2 != 0:\n",
    "        print(odd)\n",
    "    odd +=1"
   ]
  },
  {
   "cell_type": "code",
   "execution_count": 4,
   "id": "6451a358",
   "metadata": {},
   "outputs": [
    {
     "name": "stdout",
     "output_type": "stream",
     "text": [
      "922\n"
     ]
    }
   ],
   "source": [
    "# repeatedly generate and display a random integer in [1,1000), terminate when the first multiple of 3 is generated\n",
    "\n",
    "import random\n",
    "\n",
    "number = random.randint(1,10000)\n",
    "while(number<1000):\n",
    "    print(number)\n",
    "    if number % 3 == 0:\n",
    "        break\n",
    "    number = random.randint(1,10000)\n"
   ]
  },
  {
   "cell_type": "code",
   "execution_count": 19,
   "id": "74f1c53d",
   "metadata": {},
   "outputs": [
    {
     "name": "stdout",
     "output_type": "stream",
     "text": [
      "C\n",
      "O\n",
      "M\n",
      "P\n",
      "6\n",
      "0\n",
      "1\n",
      "0\n"
     ]
    }
   ],
   "source": [
    "# FOR LOOPs\n",
    "\n",
    "for x in \"COMP6010\":\n",
    "    print(x)"
   ]
  },
  {
   "cell_type": "code",
   "execution_count": 20,
   "id": "acc1135b",
   "metadata": {},
   "outputs": [
    {
     "name": "stdout",
     "output_type": "stream",
     "text": [
      "1\n",
      "3\n",
      "5\n",
      "7\n",
      "9\n"
     ]
    }
   ],
   "source": [
    "# range\n",
    "\n",
    "for x in range(1,10,2):\n",
    "    print(x)"
   ]
  },
  {
   "cell_type": "code",
   "execution_count": 21,
   "id": "2a403412",
   "metadata": {},
   "outputs": [
    {
     "name": "stdout",
     "output_type": "stream",
     "text": [
      "1\n",
      "2\n"
     ]
    }
   ],
   "source": [
    "for x in range (1,10):\n",
    "    if x % 3 == 0:\n",
    "        break\n",
    "        \n",
    "    print(x)"
   ]
  },
  {
   "cell_type": "code",
   "execution_count": 22,
   "id": "9fc9534e",
   "metadata": {},
   "outputs": [
    {
     "name": "stdout",
     "output_type": "stream",
     "text": [
      "1\n",
      "2\n",
      "4\n",
      "5\n",
      "7\n",
      "8\n"
     ]
    }
   ],
   "source": [
    "for x in range (1,10):\n",
    "    if x % 3 == 0:\n",
    "        continue\n",
    "        \n",
    "    print(x)"
   ]
  },
  {
   "cell_type": "code",
   "execution_count": 23,
   "id": "c69d9ee2",
   "metadata": {},
   "outputs": [
    {
     "name": "stdout",
     "output_type": "stream",
     "text": [
      "1\n",
      "2\n",
      "3\n",
      "4\n",
      "5\n",
      "6\n",
      "7\n",
      "8\n",
      "9\n",
      "Completed\n"
     ]
    }
   ],
   "source": [
    "# else satement in a for loop\n",
    "\n",
    "for x in range(1,10):\n",
    "    print(x)\n",
    "else:\n",
    "    print(\"Completed\")"
   ]
  },
  {
   "cell_type": "code",
   "execution_count": 24,
   "id": "f4de5f20",
   "metadata": {},
   "outputs": [
    {
     "name": "stdout",
     "output_type": "stream",
     "text": [
      "1\n",
      "2\n"
     ]
    }
   ],
   "source": [
    "# Break and else statement in a for loop\n",
    "\n",
    "for x in range(1,10):\n",
    "    if x % 3 == 0:\n",
    "        break\n",
    "    print(x)\n",
    "    \n",
    "else:\n",
    "    print(\"what is here cannot be displayed if break runs\")"
   ]
  },
  {
   "cell_type": "code",
   "execution_count": 26,
   "id": "1fa17124",
   "metadata": {},
   "outputs": [
    {
     "name": "stdout",
     "output_type": "stream",
     "text": [
      "1\n",
      "2\n",
      "4\n",
      "5\n",
      "7\n",
      "8\n",
      "print integers between 1 and 9 except multiples of 3\n"
     ]
    }
   ],
   "source": [
    "# continues and else statement in a for loop\n",
    "\n",
    "for x in range(1,10):\n",
    "    if x % 3 == 0:\n",
    "        continue\n",
    "    print(x)\n",
    "    \n",
    "else:\n",
    "    print(\"print integers between 1 and 9 except multiples of 3\")"
   ]
  },
  {
   "cell_type": "code",
   "execution_count": 27,
   "id": "8ba8ff47",
   "metadata": {},
   "outputs": [
    {
     "name": "stdout",
     "output_type": "stream",
     "text": [
      "1\n",
      "3\n",
      "5\n",
      "7\n",
      "9\n",
      "11\n",
      "13\n",
      "15\n",
      "17\n",
      "19\n",
      "21\n",
      "23\n",
      "25\n",
      "27\n",
      "29\n",
      "31\n",
      "33\n",
      "35\n",
      "37\n",
      "39\n",
      "41\n",
      "43\n",
      "45\n",
      "47\n",
      "49\n",
      "51\n",
      "53\n",
      "55\n",
      "57\n",
      "59\n",
      "61\n",
      "63\n",
      "65\n",
      "67\n",
      "69\n",
      "71\n",
      "73\n",
      "75\n",
      "77\n",
      "79\n",
      "81\n",
      "83\n",
      "85\n",
      "87\n",
      "89\n",
      "91\n",
      "93\n",
      "95\n",
      "97\n",
      "99\n"
     ]
    }
   ],
   "source": [
    "# Exercise 1\n",
    "\n",
    "for x in range(1,100):\n",
    "    if x % 2 != 0:\n",
    "        print(x)"
   ]
  },
  {
   "cell_type": "code",
   "execution_count": 28,
   "id": "bb448585",
   "metadata": {},
   "outputs": [
    {
     "name": "stdout",
     "output_type": "stream",
     "text": [
      "5050\n",
      "50.5\n"
     ]
    }
   ],
   "source": [
    "# Exercise 2\n",
    "\n",
    "sum = 0\n",
    "for x in range(1,101):\n",
    "    sum = sum + x\n",
    "    avg = sum/100\n",
    "print(sum)\n",
    "print(avg)"
   ]
  },
  {
   "cell_type": "code",
   "execution_count": 8,
   "id": "eaeb1fe9",
   "metadata": {},
   "outputs": [
    {
     "name": "stdout",
     "output_type": "stream",
     "text": [
      "Please enter a number : 5\n",
      "5!=120\n"
     ]
    }
   ],
   "source": [
    "# Exercise 3: Input integer n, calculate and output n!\n",
    "\n",
    "# Factorial\n",
    "\n",
    "n = int(input(\"Please enter a number : \"))\n",
    "\n",
    "factorial = 1\n",
    "\n",
    "for x in range(1,n+1):\n",
    "    factorial = factorial*x\n",
    "print(str(n) +\"!=\" +str(factorial))"
   ]
  },
  {
   "cell_type": "code",
   "execution_count": 1,
   "id": "f43a30ac",
   "metadata": {},
   "outputs": [
    {
     "name": "stdout",
     "output_type": "stream",
     "text": [
      "please enter a number : 7\n",
      "0\n",
      "1\n",
      "1\n",
      "2\n",
      "3\n",
      "5\n",
      "8\n",
      "13\n",
      "21\n"
     ]
    }
   ],
   "source": [
    "# Fibonacci Number\n",
    "n = int(input(\"please enter a number : \"))\n",
    "n1 = 0\n",
    "n2 = 1\n",
    "n3 = n1+n2\n",
    "fibonacci = 1\n",
    "\n",
    "print(n1)\n",
    "print(n2)\n",
    "\n",
    "for x in range(1,n+1):\n",
    "    fibonacci = n1 + n2\n",
    "    \n",
    "    n1 = n2\n",
    "    n2 = fibonacci\n",
    "    \n",
    "    print(fibonacci)"
   ]
  },
  {
   "cell_type": "code",
   "execution_count": 17,
   "id": "e3e504d2",
   "metadata": {},
   "outputs": [
    {
     "name": "stdout",
     "output_type": "stream",
     "text": [
      "red peach\n",
      "red banana\n",
      "red grapes\n",
      "green peach\n",
      "green banana\n",
      "green grapes\n",
      "blue peach\n",
      "blue banana\n",
      "blue grapes\n"
     ]
    }
   ],
   "source": [
    "# Nested loop\n",
    "# Example 1\n",
    "\n",
    "color = [\"red\", \"green\", \"blue\"] \n",
    "fruits = [\"peach\", \"banana\", \"grapes\"]\n",
    "\n",
    "for x in color:\n",
    "    for y in fruits:\n",
    "        print(x,y)\n",
    "    \n"
   ]
  },
  {
   "cell_type": "code",
   "execution_count": 18,
   "id": "b6d76ddf",
   "metadata": {},
   "outputs": [
    {
     "name": "stdout",
     "output_type": "stream",
     "text": [
      "0\n",
      "1\n",
      "2\n",
      "3\n",
      "4\n",
      "5\n",
      "6\n",
      "7\n",
      "8\n",
      "9\n",
      "10\n",
      "11\n",
      "12\n",
      "13\n",
      "14\n",
      "15\n",
      "16\n",
      "17\n",
      "18\n",
      "19\n",
      "20\n",
      "21\n",
      "22\n",
      "23\n",
      "24\n",
      "25\n",
      "26\n",
      "27\n",
      "28\n",
      "29\n",
      "30\n",
      "31\n",
      "32\n",
      "33\n",
      "34\n",
      "35\n",
      "36\n",
      "37\n",
      "38\n",
      "39\n",
      "40\n",
      "41\n",
      "42\n",
      "43\n",
      "44\n",
      "45\n",
      "46\n",
      "47\n",
      "48\n",
      "49\n",
      "50\n",
      "51\n",
      "52\n",
      "53\n",
      "54\n",
      "55\n",
      "56\n",
      "57\n",
      "58\n",
      "59\n",
      "60\n",
      "61\n",
      "62\n",
      "63\n",
      "64\n",
      "65\n",
      "66\n",
      "67\n",
      "68\n",
      "69\n",
      "70\n",
      "71\n",
      "72\n",
      "73\n",
      "74\n",
      "75\n",
      "76\n",
      "77\n",
      "78\n",
      "79\n",
      "80\n",
      "81\n",
      "82\n",
      "83\n",
      "84\n",
      "85\n",
      "86\n",
      "87\n",
      "88\n",
      "89\n",
      "90\n",
      "91\n",
      "92\n",
      "93\n",
      "94\n",
      "95\n",
      "96\n",
      "97\n",
      "98\n",
      "99\n"
     ]
    }
   ],
   "source": [
    "# Example 2\n",
    "\n",
    "i = 0\n",
    "j = 0\n",
    "number = 0\n",
    "for i in range(0,10):\n",
    "    for j in range(0,10):\n",
    "        number = i*10 + j\n",
    "        print(number)"
   ]
  },
  {
   "cell_type": "markdown",
   "id": "fdb58f2a",
   "metadata": {},
   "source": [
    "###  iLearn Practical Class"
   ]
  },
  {
   "cell_type": "code",
   "execution_count": 1,
   "id": "2a8641df",
   "metadata": {},
   "outputs": [
    {
     "name": "stdout",
     "output_type": "stream",
     "text": [
      "this statement is less than 5\n"
     ]
    }
   ],
   "source": [
    "# Qsn 1\n",
    "\n",
    "x = 3\n",
    "\n",
    "if x<5:\n",
    "    print(\"this statement is less than 5\")\n",
    "\n",
    "else:\n",
    "    print(\"this statement is NOT less than 5\")"
   ]
  },
  {
   "cell_type": "code",
   "execution_count": 2,
   "id": "8b9369f6",
   "metadata": {},
   "outputs": [
    {
     "name": "stdout",
     "output_type": "stream",
     "text": [
      "x is greater than 5\n"
     ]
    }
   ],
   "source": [
    "# Qsn 2\n",
    "\n",
    "x = 7\n",
    "\n",
    "if x<5:\n",
    "    print( \"this statement is less than 5\")\n",
    "    \n",
    "elif x == 5:\n",
    "    print(\"x is equal to 5\")\n",
    "    \n",
    "else: \n",
    "    print(\"x is greater than 5\")"
   ]
  },
  {
   "cell_type": "code",
   "execution_count": 4,
   "id": "6fc8a472",
   "metadata": {},
   "outputs": [],
   "source": [
    "# Qsn 3\n",
    "\n",
    "#x =\"hello\"\n",
    "\n",
    "#if x.isnumeric() == False:\n",
    "   # print(\"x is not a number\")\n",
    "    \n",
    "#else:\n",
    "  #  print(str(x) + \" is a number\")"
   ]
  },
  {
   "cell_type": "code",
   "execution_count": 5,
   "id": "d49d4951",
   "metadata": {},
   "outputs": [
    {
     "name": "stdout",
     "output_type": "stream",
     "text": [
      "x is not a number\n"
     ]
    }
   ],
   "source": [
    "# Qsn 3\n",
    "\n",
    "x = \"Hello\"\n",
    "\n",
    "if type(x) == int or type(x) == float:\n",
    "    print(\"x is a number\")\n",
    "    \n",
    "else:\n",
    "    print(\"x is not a number\")"
   ]
  },
  {
   "cell_type": "code",
   "execution_count": 6,
   "id": "a20d02c3",
   "metadata": {},
   "outputs": [
    {
     "name": "stdout",
     "output_type": "stream",
     "text": [
      "Pass\n"
     ]
    }
   ],
   "source": [
    "# Qsn 4\n",
    "\n",
    "assignmentMark = 4.5\n",
    "assignmentMarkedOutOf = 9\n",
    "\n",
    "percentage = (assignmentMark/assignmentMarkedOutOf)\n",
    "\n",
    "if percentage > 0:\n",
    "    if percentage < .50:\n",
    "        print(\"F\")\n",
    "    \n",
    "if percentage >= .50:\n",
    "    if percentage < .65:\n",
    "        print(\"Pass\")\n",
    "        \n",
    "if percentage >= .65:\n",
    "    if percentage < .75:\n",
    "        print(\"Credit\")\n",
    "        \n",
    "if percentage >= .75:\n",
    "    if percentage < .85:\n",
    "        print(\"Distinction\")\n",
    "        \n",
    "if percentage >= .85:\n",
    "    if percentage <= 1.00:\n",
    "        print(\"High Distinction\")\n",
    "        \n",
    "if percentage < 0 or percentage > 1:\n",
    "        print(\"error\")\n"
   ]
  },
  {
   "cell_type": "code",
   "execution_count": 7,
   "id": "1d5ea409",
   "metadata": {},
   "outputs": [
    {
     "name": "stdout",
     "output_type": "stream",
     "text": [
      "1\n",
      "2\n",
      "3\n",
      "4\n",
      "5\n",
      "6\n",
      "7\n",
      "8\n",
      "9\n"
     ]
    }
   ],
   "source": [
    "# Qsn 5\n",
    "# Example A\n",
    "\n",
    "x = 1\n",
    "for x in range(1,10):\n",
    "    print(x)\n",
    "    x+=1"
   ]
  },
  {
   "cell_type": "code",
   "execution_count": 8,
   "id": "a79e2100",
   "metadata": {},
   "outputs": [
    {
     "name": "stdout",
     "output_type": "stream",
     "text": [
      "printed a line\n",
      "printed a line\n",
      "printed a line\n",
      "printed a line\n",
      "printed a line\n",
      "printed a line\n",
      "printed a line\n",
      "printed a line\n",
      "printed a line\n",
      "printed a line\n"
     ]
    }
   ],
   "source": [
    "# Example B\n",
    "\n",
    "x = 1\n",
    "for x in range(1,11):\n",
    "    print(\"printed a line\")\n",
    "    x+=1"
   ]
  },
  {
   "cell_type": "code",
   "execution_count": 9,
   "id": "cfd3d851",
   "metadata": {},
   "outputs": [],
   "source": [
    "# Example C\n",
    "\n",
    "x = 1\n",
    "for x in range(1,1):\n",
    "    print(\"printed a line\")\n",
    "    x+=1"
   ]
  },
  {
   "cell_type": "code",
   "execution_count": 10,
   "id": "37e49793",
   "metadata": {},
   "outputs": [
    {
     "name": "stdout",
     "output_type": "stream",
     "text": [
      "Alex\n",
      "Bob\n",
      "Chris\n",
      "Danni\n"
     ]
    }
   ],
   "source": [
    "#Example E\n",
    "\n",
    "for x in [\"Alex\",\"Bob\",\"Chris\",\"Danni\"]:\n",
    "    print(x)"
   ]
  },
  {
   "cell_type": "code",
   "execution_count": 11,
   "id": "46df6f1d",
   "metadata": {},
   "outputs": [
    {
     "name": "stdout",
     "output_type": "stream",
     "text": [
      "printed a line\n",
      "printed a line\n",
      "printed a line\n",
      "printed a line\n"
     ]
    }
   ],
   "source": [
    "#Example F\n",
    "\n",
    "for x in [\"Alex\",\"Bob\",\"Chris\",\"Danni\"]:\n",
    "    print(\"printed a line\")"
   ]
  },
  {
   "cell_type": "code",
   "execution_count": 12,
   "id": "5e21ddec",
   "metadata": {},
   "outputs": [
    {
     "name": "stdout",
     "output_type": "stream",
     "text": [
      "5\n",
      "6\n",
      "7\n",
      "8\n",
      "9\n",
      "10\n",
      "11\n",
      "12\n",
      "13\n",
      "14\n",
      "15\n"
     ]
    }
   ],
   "source": [
    "# Question 6\n",
    "\n",
    "for x in range(5,16):\n",
    "    print(x)"
   ]
  },
  {
   "cell_type": "code",
   "execution_count": 13,
   "id": "4859c714",
   "metadata": {},
   "outputs": [
    {
     "name": "stdout",
     "output_type": "stream",
     "text": [
      "5\n",
      "7\n",
      "9\n",
      "11\n",
      "13\n",
      "15\n"
     ]
    }
   ],
   "source": [
    "for x in range(5,16,2):\n",
    "    print(x)"
   ]
  },
  {
   "cell_type": "code",
   "execution_count": 14,
   "id": "2164fc41",
   "metadata": {},
   "outputs": [
    {
     "name": "stdout",
     "output_type": "stream",
     "text": [
      "6\n",
      "8\n",
      "10\n",
      "12\n",
      "14\n"
     ]
    }
   ],
   "source": [
    "for x in range(6,16,2):\n",
    "    print(x)"
   ]
  },
  {
   "cell_type": "code",
   "execution_count": 15,
   "id": "5399b2a2",
   "metadata": {},
   "outputs": [
    {
     "name": "stdout",
     "output_type": "stream",
     "text": [
      "60\n"
     ]
    }
   ],
   "source": [
    "# Question 7\n",
    "\n",
    "sum = 0\n",
    "\n",
    "for x in range(5,16,2):\n",
    "    sum = sum + x\n",
    "print(sum)\n"
   ]
  },
  {
   "cell_type": "code",
   "execution_count": 16,
   "id": "1a4846a7",
   "metadata": {},
   "outputs": [
    {
     "name": "stdout",
     "output_type": "stream",
     "text": [
      "60\n"
     ]
    }
   ],
   "source": [
    "# Question 8\n",
    "\n",
    "sum = 0\n",
    "\n",
    "x = 5\n",
    "while(x <= 15):\n",
    "    sum = sum + x\n",
    "    x += 2\n",
    "print(sum)"
   ]
  },
  {
   "cell_type": "code",
   "execution_count": null,
   "id": "b8b53751",
   "metadata": {},
   "outputs": [],
   "source": []
  }
 ],
 "metadata": {
  "kernelspec": {
   "display_name": "Python 3 (ipykernel)",
   "language": "python",
   "name": "python3"
  },
  "language_info": {
   "codemirror_mode": {
    "name": "ipython",
    "version": 3
   },
   "file_extension": ".py",
   "mimetype": "text/x-python",
   "name": "python",
   "nbconvert_exporter": "python",
   "pygments_lexer": "ipython3",
   "version": "3.9.13"
  }
 },
 "nbformat": 4,
 "nbformat_minor": 5
}
