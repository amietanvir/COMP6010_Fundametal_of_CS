{
 "cells": [
  {
   "cell_type": "code",
   "execution_count": 1,
   "id": "2aeeabab",
   "metadata": {},
   "outputs": [
    {
     "name": "stdout",
     "output_type": "stream",
     "text": [
      "We are studing Python in COMP6010\n"
     ]
    }
   ],
   "source": [
    "# Output 1\n",
    "\n",
    "print(\"We are studing Python in COMP6010\")"
   ]
  },
  {
   "cell_type": "code",
   "execution_count": 8,
   "id": "f41eff30",
   "metadata": {},
   "outputs": [
    {
     "name": "stdout",
     "output_type": "stream",
     "text": [
      " A book titled 'Python Tutorial'\n",
      "A book titled \"Python Tutorial\"\n",
      "How are you? This is your first class to learn python. Wish you all enjoy this unit.\n"
     ]
    }
   ],
   "source": [
    "# Output 2\n",
    "\n",
    "# Print er vetore kichu inverted comma diye likhte chaile print a je comma use kora hoise, same comma use kora jabe na\n",
    "\n",
    "print(\" A book titled 'Python Tutorial'\") \n",
    "\n",
    "print('A book titled \"Python Tutorial\"')\n",
    "\n",
    "# triple quotation o use kora jabe\n",
    "\n",
    "print('''How are you? This is your first class to learn python. Wish you all enjoy this unit.''')"
   ]
  },
  {
   "cell_type": "code",
   "execution_count": 9,
   "id": "b27d0025",
   "metadata": {},
   "outputs": [
    {
     "name": "stdout",
     "output_type": "stream",
     "text": [
      "7.0\n"
     ]
    }
   ],
   "source": [
    "# output 3\n",
    "\n",
    "# Variable\n",
    "\n",
    "distance = 56\n",
    "time = 8\n",
    "\n",
    "speed = distance/time\n",
    "\n",
    "print(speed)"
   ]
  },
  {
   "cell_type": "code",
   "execution_count": 12,
   "id": "4e74e441",
   "metadata": {},
   "outputs": [
    {
     "name": "stdout",
     "output_type": "stream",
     "text": [
      "Hello,World!\n"
     ]
    }
   ],
   "source": [
    "# Comment\n",
    "\n",
    "print(\"Hello,World!\")"
   ]
  },
  {
   "cell_type": "code",
   "execution_count": 20,
   "id": "68b2be4e",
   "metadata": {},
   "outputs": [
    {
     "data": {
      "text/plain": [
       "'This is a comment line 1 \\nThis is a comment line 2\\nThis is a comment line 3 '"
      ]
     },
     "execution_count": 20,
     "metadata": {},
     "output_type": "execute_result"
    }
   ],
   "source": [
    "\"\"\"This is a comment line 1 \n",
    "This is a comment line 2\n",
    "This is a comment line 3 \"\"\""
   ]
  },
  {
   "cell_type": "code",
   "execution_count": null,
   "id": "4af7b742",
   "metadata": {},
   "outputs": [],
   "source": []
  },
  {
   "cell_type": "code",
   "execution_count": null,
   "id": "ce2553e8",
   "metadata": {},
   "outputs": [],
   "source": []
  }
 ],
 "metadata": {
  "kernelspec": {
   "display_name": "Python 3 (ipykernel)",
   "language": "python",
   "name": "python3"
  },
  "language_info": {
   "codemirror_mode": {
    "name": "ipython",
    "version": 3
   },
   "file_extension": ".py",
   "mimetype": "text/x-python",
   "name": "python",
   "nbconvert_exporter": "python",
   "pygments_lexer": "ipython3",
   "version": "3.9.13"
  }
 },
 "nbformat": 4,
 "nbformat_minor": 5
}
