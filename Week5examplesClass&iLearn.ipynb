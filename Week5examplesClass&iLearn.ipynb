{
 "cells": [
  {
   "cell_type": "markdown",
   "id": "cfa06132",
   "metadata": {},
   "source": [
    "### Week 5 Examples"
   ]
  },
  {
   "cell_type": "code",
   "execution_count": null,
   "id": "9ac01dcf",
   "metadata": {},
   "outputs": [],
   "source": [
    "# FOR LOO EXAMPLES\n",
    "for a in range(1,101):\n",
    "    if a % 2 == 0:\n",
    "        print(a)\n"
   ]
  },
  {
   "cell_type": "code",
   "execution_count": null,
   "id": "f4ae1185",
   "metadata": {},
   "outputs": [],
   "source": [
    "for b in range(1,101):\n",
    "    if b % 2 != 0:\n",
    "        print(b)"
   ]
  },
  {
   "cell_type": "code",
   "execution_count": null,
   "id": "46a89a14",
   "metadata": {},
   "outputs": [],
   "source": [
    "# Factorial\n",
    "\n",
    "n = int(input(\"Enter a number: \"))\n",
    "\n",
    "factorial = 1\n",
    "\n",
    "for x in range(1,n+1):\n",
    "    factorial = factorial*x\n",
    "    \n",
    "print(str(n)+\"!=\"+str(factorial))\n",
    "\n"
   ]
  },
  {
   "cell_type": "code",
   "execution_count": null,
   "id": "55421d6b",
   "metadata": {},
   "outputs": [],
   "source": [
    "# Fibonacci\n",
    "\n",
    "n = int(input(\"Enter a number: \"))\n",
    "a = 0\n",
    "b = 1\n",
    "\n",
    "print(0)\n",
    "print(1)\n",
    "fibonacci = 0\n",
    "\n",
    "for x in range(1,n+1):\n",
    "    fibonacci = a+b\n",
    "    a = b\n",
    "    b = fibonacci\n",
    "    \n",
    "    print(str(fibonacci))"
   ]
  },
  {
   "cell_type": "code",
   "execution_count": null,
   "id": "88803843",
   "metadata": {},
   "outputs": [],
   "source": [
    "# Prime Number Check\n",
    "\n",
    "n = int(input(\"Enter a number: \"))\n",
    "if x > 1:\n",
    "    \n",
    "    for x in range(2,n):\n",
    "        if n % x ==0:\n",
    "            print(str(n)+ \" is not a prime number.\")\n",
    "            break\n",
    "        \n",
    "    else:\n",
    "        print(str(n)+ \" is prime number.\")\n",
    "            \n",
    "        \n",
    "else:\n",
    "    print(str(n)+ \" is not a prime number.\")\n",
    "        \n",
    "    "
   ]
  },
  {
   "cell_type": "code",
   "execution_count": null,
   "id": "3a136da6",
   "metadata": {},
   "outputs": [],
   "source": [
    "# WHILE LOOP Examples\n",
    "\n",
    "# Even Numbers\n",
    "\n",
    "n = 1\n",
    "while(n <= 100):\n",
    "    if n%2 == 0:\n",
    "        print(n)\n",
    "    n+=1"
   ]
  },
  {
   "cell_type": "code",
   "execution_count": null,
   "id": "298b9439",
   "metadata": {},
   "outputs": [],
   "source": [
    "# Odd numbers\n",
    "\n",
    "n = 0\n",
    "\n",
    "while(n<=100):\n",
    "    if n%2 != 0:\n",
    "        print(n)   \n",
    "    n+=1"
   ]
  },
  {
   "cell_type": "code",
   "execution_count": null,
   "id": "1c30f0cd",
   "metadata": {},
   "outputs": [],
   "source": [
    "# factorial n! \n",
    "\n",
    "factorial = 1\n",
    "factor  = 1\n",
    "\n",
    "n = int(input(\"Enter a positive number: \"))\n",
    "\n",
    "while(factor < n+1):\n",
    "    factorial = factorial*factor\n",
    "    factor += 1\n",
    "    \n",
    "print(str(n)+\"!= \"+str(factorial))\n"
   ]
  },
  {
   "cell_type": "code",
   "execution_count": 1,
   "id": "11db65b4",
   "metadata": {},
   "outputs": [
    {
     "name": "stdout",
     "output_type": "stream",
     "text": [
      "Enter a number: 4\n",
      "1\n",
      "2\n",
      "3\n",
      "5\n"
     ]
    }
   ],
   "source": [
    "# Fibonacci Number using While Loop\n",
    "\n",
    "a = 0\n",
    "b = 1\n",
    "fibo = 1\n",
    "\n",
    "n = int(input(\"Enter a number: \"))\n",
    "\n",
    "while(fibo < n+1):\n",
    "    fibonacci = a+b\n",
    "    a = b\n",
    "    b = fibonacci\n",
    "    print(fibonacci)\n",
    "    \n",
    "    fibo +=1"
   ]
  },
  {
   "cell_type": "code",
   "execution_count": null,
   "id": "57aa26dc",
   "metadata": {},
   "outputs": [],
   "source": [
    "# Prime number\n",
    "n = int(input(\"Enter a number: \"))\n",
    "x = 2\n",
    "\n",
    "if n > 1:\n",
    "    while(x<n):\n",
    "        if n % x == 0:\n",
    "            print(n,\" is not a prime number\")\n",
    "            break    \n",
    "        x += 1\n",
    "            \n",
    "    else:\n",
    "        print(n,\" is a prime number\")  \n",
    "else:\n",
    "    print(n, \" is not a prime number\")\n"
   ]
  },
  {
   "cell_type": "markdown",
   "id": "acd1716a",
   "metadata": {},
   "source": [
    "### Class Lecture"
   ]
  },
  {
   "cell_type": "code",
   "execution_count": null,
   "id": "017af7d5",
   "metadata": {},
   "outputs": [],
   "source": [
    "# Exercise 1\n",
    "# output all even numbers between 1 and 100\n",
    "\n",
    "\n",
    "for a in range(1,101):\n",
    "    if a % 2 == 0:\n",
    "        print(a)"
   ]
  },
  {
   "cell_type": "code",
   "execution_count": null,
   "id": "573c8ad7",
   "metadata": {},
   "outputs": [],
   "source": [
    "# output all odd numbers between 1 and 100\n",
    "\n",
    "for b in range(1,101):\n",
    "    if b % 2 != 0:\n",
    "        print(b)"
   ]
  },
  {
   "cell_type": "code",
   "execution_count": null,
   "id": "afc82198",
   "metadata": {},
   "outputs": [],
   "source": [
    "# input a positive integer n, output n\n",
    "# factorial n! \n",
    "#using FOR LOOP\n",
    "\n",
    "factorial = 1\n",
    "n = int(input(\"enter a positive number : \"))\n",
    "\n",
    "for f in range(1,n+1):\n",
    "    factorial = factorial*f\n",
    "    \n",
    "print(str(n)+\"!= \"+str(factorial))    \n",
    "    "
   ]
  },
  {
   "cell_type": "code",
   "execution_count": null,
   "id": "40a94e0f",
   "metadata": {},
   "outputs": [],
   "source": [
    "# input a positive integer n, output n\n",
    "# factorial n! \n",
    "#using WHILE LOOP\n",
    "\n",
    "factorial = 1\n",
    "factor  = 1\n",
    "\n",
    "n = int(input(\"Enter a positive number: \"))\n",
    "\n",
    "while(factor < n+1):\n",
    "    factorial = factorial*factor\n",
    "    factor += 1\n",
    "    \n",
    "print(str(n)+\"!= \"+str(factorial))\n",
    "\n"
   ]
  },
  {
   "cell_type": "code",
   "execution_count": null,
   "id": "d1536790",
   "metadata": {},
   "outputs": [],
   "source": [
    "# input n, output the Fibonacci sequence with n numbers\n",
    "# Fibonacci numbers\n",
    "# FOR LOOP\n",
    "\n",
    "a = 0\n",
    "b = 1\n",
    "\n",
    "n = int(input(\"Enter a number : \"))\n",
    "\n",
    "for x in range(1, n+1):\n",
    "    fibonacci = a+b\n",
    "    a = b\n",
    "    b = fibonacci\n",
    "    \n",
    "    print(fibonacci)"
   ]
  },
  {
   "cell_type": "code",
   "execution_count": null,
   "id": "80cef82d",
   "metadata": {},
   "outputs": [],
   "source": [
    "# Fibonacci numbers\n",
    "# WHILE LOOP\n",
    "\n",
    "a = 0\n",
    "b = 1\n",
    "fibo = 1\n",
    "\n",
    "n = int(input(\"Enter a number: \"))\n",
    "\n",
    "while(fibo < n+1):\n",
    "    fibonacci = a+b\n",
    "    a = b\n",
    "    b = fibonacci\n",
    "    print(fibonacci)\n",
    "    \n",
    "    fibo +=1"
   ]
  },
  {
   "cell_type": "code",
   "execution_count": null,
   "id": "c93cfee5",
   "metadata": {},
   "outputs": [],
   "source": [
    "# Write the code to check if a given positive integer n is a prime\n",
    "# PRIME NUMBER\n",
    "\n",
    "n = int(input(\"Enter a number: \"))\n",
    "if n > 1:\n",
    "    \n",
    "    for x in range(2,n):\n",
    "        if n % x ==0:\n",
    "            print(str(n)+ \" is not a prime number.\")\n",
    "            break\n",
    "        \n",
    "    else:\n",
    "        print(str(n)+ \" is prime number.\")\n",
    "            \n",
    "        \n",
    "else:\n",
    "    print(str(n)+ \" is not a prime number.\")"
   ]
  },
  {
   "cell_type": "code",
   "execution_count": null,
   "id": "a21713f6",
   "metadata": {},
   "outputs": [],
   "source": [
    "# PRIME NUMBER using While Loop\n",
    "\n",
    "n = int(input(\"Enter a number: \"))\n",
    "x = 2\n",
    "\n",
    "if n > 1:\n",
    "    while(x<n):\n",
    "        if n % x == 0:\n",
    "            print(n,\" is not a prime number\")\n",
    "            break    \n",
    "        x += 1\n",
    "            \n",
    "    else:\n",
    "        print(n,\" is a prime number\")  \n",
    "else:\n",
    "    print(n, \" is not a prime number\")\n"
   ]
  },
  {
   "cell_type": "markdown",
   "id": "f44234ef",
   "metadata": {},
   "source": [
    "### iLearn Practices"
   ]
  },
  {
   "cell_type": "markdown",
   "id": "5dd062c7",
   "metadata": {},
   "source": [
    "a) how many times will \"hello\" be printed below\n"
   ]
  },
  {
   "cell_type": "markdown",
   "id": "723a64cb",
   "metadata": {},
   "source": [
    "b) what value of x will be printed after exiting the loop?"
   ]
  },
  {
   "cell_type": "code",
   "execution_count": null,
   "id": "4e27f21e",
   "metadata": {},
   "outputs": [],
   "source": [
    "# Question 1\n",
    "\n",
    "x = 1\n",
    "while x < 10:\n",
    "    print(\"hello\")\n",
    "    x = x + 1\n",
    "print(x)"
   ]
  },
  {
   "cell_type": "code",
   "execution_count": null,
   "id": "f1a70f19",
   "metadata": {},
   "outputs": [],
   "source": [
    "# Question 2\n",
    "x = 1\n",
    "while x <= 10:\n",
    "    print(\"hello\")\n",
    "    x = x + 1\n",
    "print(x)"
   ]
  },
  {
   "cell_type": "code",
   "execution_count": null,
   "id": "f9853d68",
   "metadata": {},
   "outputs": [],
   "source": [
    "# Question 3\n",
    "\n",
    "x = 1\n",
    "while x <= 10:\n",
    "    print(\"hello\")\n",
    "    x = x * 2\n",
    "print(x)"
   ]
  },
  {
   "cell_type": "code",
   "execution_count": null,
   "id": "33733913",
   "metadata": {},
   "outputs": [],
   "source": [
    "#Question 4\n",
    "\n",
    "x = 1\n",
    "while x < 10:\n",
    "    y = 1\n",
    "    while y < 10:\n",
    "        print(\"hello\")\n",
    "        y = y + 1\n",
    "        x = x + 1\n",
    "print(x)"
   ]
  },
  {
   "cell_type": "code",
   "execution_count": null,
   "id": "105337e5",
   "metadata": {},
   "outputs": [],
   "source": [
    "# Question 5\n",
    "\n",
    "x = -238\n",
    "for x in range(0,10):\n",
    "    print(\"hello\")\n",
    "print(x)"
   ]
  },
  {
   "cell_type": "code",
   "execution_count": null,
   "id": "be679149",
   "metadata": {},
   "outputs": [],
   "source": [
    "#Question 6\n",
    "\n",
    "# think very carefully about this one! what does x = x + 1 actually do in this for loop?\n",
    "# does it have any impact on the for loop? why? why not? what about x = x + 10?\n",
    "\n",
    "x = 200\n",
    "for x in range(0,10,2):\n",
    "    print(\"hello\")\n",
    "    x = x + 10\n",
    "print(x)"
   ]
  },
  {
   "cell_type": "code",
   "execution_count": null,
   "id": "f44e8f56",
   "metadata": {},
   "outputs": [],
   "source": [
    "#Question 7\n",
    "\n",
    "x = 200\n",
    "for x in range(1, 5):\n",
    "    for y in range (0, 5):\n",
    "        print(\"hello\")\n",
    "print(x)"
   ]
  },
  {
   "cell_type": "code",
   "execution_count": null,
   "id": "2ccab024",
   "metadata": {},
   "outputs": [],
   "source": [
    "#Question 8\n",
    "\n",
    "x = 200\n",
    "for x in range(1, 5):\n",
    "    for y in range (0, 5, 5):\n",
    "        print(\"hello\")\n",
    "print(x)"
   ]
  },
  {
   "cell_type": "code",
   "execution_count": null,
   "id": "025d6ace",
   "metadata": {},
   "outputs": [],
   "source": [
    "#Question 9\n",
    "\n",
    "x = 1\n",
    "while x < 10:\n",
    "    y = 1\n",
    "    while y < 10:\n",
    "        print(\"hello\")\n",
    "        x = x + 1\n",
    "        y = y + 1\n",
    "print(x)"
   ]
  },
  {
   "cell_type": "code",
   "execution_count": null,
   "id": "60f0e910",
   "metadata": {},
   "outputs": [],
   "source": [
    "# Question 10 a\n",
    "\n",
    "x = 1\n",
    "found = False\n",
    "while x < 100 and found != True:\n",
    "    print(\"hello\")\n",
    "    if x % 4 == 3:\n",
    "       found = True\n",
    "    x = x + 1\n",
    "print(x)"
   ]
  },
  {
   "cell_type": "code",
   "execution_count": null,
   "id": "0e1ae995",
   "metadata": {},
   "outputs": [],
   "source": [
    "# Question 10 b\n",
    "\n",
    "x = 1\n",
    "found = False\n",
    "while x < 100 and found != True:\n",
    "    x = x + 1\n",
    "    print(\"hello\")\n",
    "    if x % 4 == 3:\n",
    "        found = True\n",
    "print(x)\n",
    "\n"
   ]
  },
  {
   "cell_type": "code",
   "execution_count": null,
   "id": "640229a6",
   "metadata": {},
   "outputs": [],
   "source": [
    "# Question 10 c\n",
    "\n",
    "x = 0\n",
    "found = False\n",
    "while x < 100 and found != True:\n",
    "    print(\"hello\")\n",
    "    if x % 4 == 3:\n",
    "        found = True\n",
    "    x = x + 4\n",
    "print(x)"
   ]
  },
  {
   "cell_type": "code",
   "execution_count": null,
   "id": "98733ba1",
   "metadata": {},
   "outputs": [],
   "source": []
  },
  {
   "cell_type": "code",
   "execution_count": null,
   "id": "69dd072d",
   "metadata": {},
   "outputs": [],
   "source": [
    "# Real problem come here\n",
    "#Question 11\n",
    "#Write a while loop that will print the numbers from 1 to 10 (inclusive)\n",
    "\n",
    "n = 1\n",
    "while(n<=10):\n",
    "    print(n)\n",
    "    n +=1"
   ]
  },
  {
   "cell_type": "code",
   "execution_count": null,
   "id": "1d40162f",
   "metadata": {},
   "outputs": [],
   "source": [
    "#Question 12\n",
    "#Write a while loop that will print the even numbers from 1 to 10 (inclusive)\n",
    "\n",
    "\n",
    "n = 1\n",
    "while(n<=10):\n",
    "    if n % 2 ==0:\n",
    "        print(n)\n",
    "    n+=1"
   ]
  },
  {
   "cell_type": "code",
   "execution_count": null,
   "id": "b0ca03a5",
   "metadata": {},
   "outputs": [],
   "source": [
    "#Also write a for loop that will print the even numbers from 1 to 10 (inclusive)\n",
    "\n",
    "for x in range(2,11,2):\n",
    "    print(x)"
   ]
  },
  {
   "cell_type": "code",
   "execution_count": null,
   "id": "f7126ac7",
   "metadata": {},
   "outputs": [],
   "source": [
    "# Question 13\n",
    "\n",
    "\"\"\"\n",
    "using a while loop inside a while loop write some code that will print the following sequence\n",
    "\n",
    "1\n",
    "2\n",
    "3\n",
    "4\n",
    "\n",
    "2\n",
    "3\n",
    "4\n",
    "5\n",
    "\n",
    "3\n",
    "4\n",
    "5\n",
    "6\n",
    "\n",
    "\"\"\"\n",
    "\n",
    "\n"
   ]
  },
  {
   "cell_type": "code",
   "execution_count": null,
   "id": "fa603792",
   "metadata": {},
   "outputs": [],
   "source": [
    "# Answer of Question 13\n",
    "\n",
    "x = 1\n",
    "while(x<=3):\n",
    "    y = x\n",
    "    while y<x+4:\n",
    "        print(y)\n",
    "        y = y+1\n",
    "    x = y+1\n",
    "x = 2\n",
    "while(x<=4):\n",
    "    y = x\n",
    "    while y<x+4:\n",
    "        print(y)\n",
    "        y = y+1\n",
    "    x = y+1\n",
    "x = 3\n",
    "while(x<=5):\n",
    "    y = x\n",
    "    while y<x+4:\n",
    "        print(y)\n",
    "        y = y+1\n",
    "    x = y+1\n"
   ]
  },
  {
   "cell_type": "code",
   "execution_count": null,
   "id": "90d2f64d",
   "metadata": {},
   "outputs": [],
   "source": [
    "# 14 a)run the above code and see what prints out in the console.\n",
    "\n",
    "\n",
    "numberLimit = 1000\n",
    "\n",
    "if(numberLimit > 1):\n",
    "    print(1, end=\", \")\n",
    "    print(1, end=\", \")\n",
    "    currentNumber = 1 + 1\n",
    "    previous = 1\n",
    "    previousprevious = 1\n",
    "\n",
    "    while currentNumber <= numberLimit:\n",
    "        print(currentNumber, end=\", \")\n",
    "        previousprevious = previous\n",
    "        previous = currentNumber\n",
    "        currentNumber = previous + previousprevious\n",
    "print(\" end\")"
   ]
  },
  {
   "cell_type": "code",
   "execution_count": null,
   "id": "38286c70",
   "metadata": {},
   "outputs": [],
   "source": [
    "#14 b) edit the above code to print out the first \"n\" Fibonacci numbers. \n",
    "#So, rather than saying I want all Fibonacci numbers under 1000, you can say \"I want the first 15 Fibonacci numbers\".\n",
    "\n",
    "\n",
    "n = 15\n",
    "\n",
    "a = 0\n",
    "b = 1\n",
    "print(b, end=\", \")\n",
    "fibonacci = 0\n",
    "\n",
    "for x in range(1,n):\n",
    "    fibonacci = a+b\n",
    "    a = b\n",
    "    b = fibonacci\n",
    "    \n",
    "    print(fibonacci, end=\", \") "
   ]
  },
  {
   "cell_type": "code",
   "execution_count": 5,
   "id": "d3a03654",
   "metadata": {},
   "outputs": [
    {
     "name": "stdout",
     "output_type": "stream",
     "text": [
      "Please enter a number: 23\n",
      "2, 1, 3, 4, 7, 11, 18, 29, 47, 76, 123, 199, 322, 521, 843, 1364, 2207, 3571, 5778, 9349, 15127, 24476, 39603, 64079, "
     ]
    }
   ],
   "source": [
    "# 14 c) look up the Lucas sequence on your search engine of choice, and modify your algorithm from 14 b to print out the\n",
    "# first n Lucas numbers instead of the first n Fibonacci numbers.\n",
    "# L(0) = 2 L(1) = 1 L(n) = L(n-1) + L(n-2)\n",
    "# 2, 1, 3, 4, 7, 11, 18, 29, 47, 76, 123, 199,\n",
    "\n",
    "n = int(input(\"Please enter a number: \"))\n",
    "\n",
    "a = 2\n",
    "b = 1\n",
    "print(a, end =\", \")\n",
    "print(b, end=\", \")\n",
    "fibonacci = 0\n",
    "\n",
    "for x in range(1,n):\n",
    "    fibonacci = a+b\n",
    "    a = b\n",
    "    b = fibonacci\n",
    "    \n",
    "    print(fibonacci, end=\", \") \n"
   ]
  },
  {
   "cell_type": "code",
   "execution_count": null,
   "id": "917ab45e",
   "metadata": {},
   "outputs": [],
   "source": []
  }
 ],
 "metadata": {
  "kernelspec": {
   "display_name": "Python 3 (ipykernel)",
   "language": "python",
   "name": "python3"
  },
  "language_info": {
   "codemirror_mode": {
    "name": "ipython",
    "version": 3
   },
   "file_extension": ".py",
   "mimetype": "text/x-python",
   "name": "python",
   "nbconvert_exporter": "python",
   "pygments_lexer": "ipython3",
   "version": "3.9.13"
  }
 },
 "nbformat": 4,
 "nbformat_minor": 5
}
